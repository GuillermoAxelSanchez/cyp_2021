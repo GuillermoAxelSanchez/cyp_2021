{
  "nbformat": 4,
  "nbformat_minor": 0,
  "metadata": {
    "colab": {
      "name": "19_nov_cyp.ipynb",
      "provenance": [],
      "authorship_tag": "ABX9TyMA4xCwxsB+Ev7lLAgE1fHf",
      "include_colab_link": true
    },
    "kernelspec": {
      "name": "python3",
      "display_name": "Python 3"
    }
  },
  "cells": [
    {
      "cell_type": "markdown",
      "metadata": {
        "id": "view-in-github",
        "colab_type": "text"
      },
      "source": [
        "<a href=\"https://colab.research.google.com/github/GuillermoAxelSanchez/cyp_2021/blob/main/19_nov_cyp.ipynb\" target=\"_parent\"><img src=\"https://colab.research.google.com/assets/colab-badge.svg\" alt=\"Open In Colab\"/></a>"
      ]
    },
    {
      "cell_type": "code",
      "metadata": {
        "colab": {
          "base_uri": "https://localhost:8080/"
        },
        "id": "sYdvc-OWhBzh",
        "outputId": "aebbbc13-c7c8-45bf-dbcc-2ce2e7426012"
      },
      "source": [
        "#concepo de asignación, de derecha a izquierda\n",
        "I=0\n",
        "I=I+1\n",
        "I=I+1\n",
        "print(f\"I={I}\")\n",
        "\n",
        "j=5**2/3\n",
        "print(f\"j={j}\")"
      ],
      "execution_count": 4,
      "outputs": [
        {
          "output_type": "stream",
          "text": [
            "I=2\n",
            "j=8.333333333333334\n"
          ],
          "name": "stdout"
        }
      ]
    },
    {
      "cell_type": "code",
      "metadata": {
        "colab": {
          "base_uri": "https://localhost:8080/"
        },
        "id": "j3NsApEAmzhC",
        "outputId": "9b78fa24-beee-473a-98a3-46f579f9991e"
      },
      "source": [
        "#declaración de variables o reservar la memoria \n",
        "a=0\n",
        "b=0\n",
        "c=0\n",
        "d=0\n",
        "\n",
        "#Pedir los valores en orden\n",
        "a=int(input(\"dame un valor entero a: \"))\n",
        "b=int(input(\"dame un valor entero b: \"))\n",
        "c=int(input(\"dame un valor entero c: \"))\n",
        "d=int(input(\"dame un valor entero d: \"))\n",
        "\n",
        "#Imprmir los valores ya en orden inverso\n",
        "print(d)\n",
        "print(c)\n",
        "print(b)\n",
        "print(a)"
      ],
      "execution_count": 5,
      "outputs": [
        {
          "output_type": "stream",
          "text": [
            "dame un valor entero: 1\n",
            "dame un valor entero: 2\n",
            "dame un valor entero: 3\n",
            "dame un valor entero: 4\n",
            "4\n",
            "3\n",
            "2\n",
            "1\n"
          ],
          "name": "stdout"
        }
      ]
    },
    {
      "cell_type": "code",
      "metadata": {
        "colab": {
          "base_uri": "https://localhost:8080/"
        },
        "id": "B9f3tPL-muZx",
        "outputId": "a010c5d0-dfcb-4464-ab67-443aae8cc714"
      },
      "source": [
        "#Ejemplo 1.7\n",
        "a=0\n",
        "b=0\n",
        "res=0\n",
        "\n",
        "a=int(input(\"Dame un valor a:\"))\n",
        "b=int(input(\"Dame un valor b:\"))\n",
        "res=((a+b)**2)/3\n",
        "print(res)\n",
        "\n"
      ],
      "execution_count": 12,
      "outputs": [
        {
          "output_type": "stream",
          "text": [
            "Dame un valor a:14\n",
            "Dame un valor b:-5\n",
            "27.0\n"
          ],
          "name": "stdout"
        }
      ]
    },
    {
      "cell_type": "code",
      "metadata": {
        "colab": {
          "base_uri": "https://localhost:8080/"
        },
        "id": "NmNKgDc3uFha",
        "outputId": "067e4cb0-2656-42a9-f637-45de9917aedd"
      },
      "source": [
        "#ejemplo 1.8\n",
        "mat=0\n",
        "c1=0\n",
        "c2=0\n",
        "c3=0\n",
        "c4=0\n",
        "c5=0\n",
        "res=0\n",
        "\n",
        "\n",
        "mat=int(input(\"digita tu matrícula: \"))\n",
        "c1=float(input(\"digita tu calificación 1 \"))\n",
        "c2=float(input(\"digita tu calificación 2 \"))\n",
        "c3=float(input(\"digita tu calificación 3 \"))\n",
        "c4=float(input(\"digita tu calificación 4 \"))\n",
        "c5=float(input(\"digita tu calificación 5 \"))\n",
        "\n",
        "res=(c1+c2+c3+c4+c5)/5\n",
        "\n",
        "print(f\"El promedio de la matrícula {mat} es = {res}\")\n",
        "\n"
      ],
      "execution_count": 14,
      "outputs": [
        {
          "output_type": "stream",
          "text": [
            "digita tu matrícula: 16500\n",
            "digita tu calificación 1 8\n",
            "digita tu calificación 2 8.5\n",
            "digita tu calificación 3 9\n",
            "digita tu calificación 4 7\n",
            "digita tu calificación 5 6\n",
            "El promedio de la matrícula 16500 es =7.7\n"
          ],
          "name": "stdout"
        }
      ]
    },
    {
      "cell_type": "code",
      "metadata": {
        "colab": {
          "base_uri": "https://localhost:8080/"
        },
        "id": "oS9bR_fGuHvR",
        "outputId": "a9ebc1b4-de8e-4269-f8c6-350fbd4c1e45"
      },
      "source": [
        "#ejemplo 1.9\n",
        "a=0\n",
        "b=0\n",
        "c=0\n",
        "a=int(input(\"dame un número entero\"))\n",
        "b=a**2\n",
        "c=a**3\n",
        "\n",
        "print(f\"El cuadrado de {a} es {b} \")\n",
        "print(f\"El cubo de {a} es {c} \")"
      ],
      "execution_count": 17,
      "outputs": [
        {
          "output_type": "stream",
          "text": [
            "dame un número entero7\n",
            "El cuadrado de 7 es 49 \n",
            "El cubo de 7 es 343 \n"
          ],
          "name": "stdout"
        }
      ]
    },
    {
      "cell_type": "code",
      "metadata": {
        "colab": {
          "base_uri": "https://localhost:8080/"
        },
        "id": "n-HHo3QKzTQ-",
        "outputId": "0463d8c4-1d80-4642-b6c3-2e448fcbfc9f"
      },
      "source": [
        "#ejemplo 1.10\n",
        "base=0\n",
        "altura=0\n",
        "area=0\n",
        "per=0\n",
        "\n",
        "base=float(input(\"Ingresa la base\"))\n",
        "altura=float(input(\"Ingresa la altura\"))\n",
        "area=(base*altura)\n",
        "per=(2*base)+(2*altura)#se puede ocupar 2*(base+altura)\n",
        "\n",
        "print(f\"el área es {area}\")\n",
        "print(f\"el perímetro es {per}\")"
      ],
      "execution_count": 19,
      "outputs": [
        {
          "output_type": "stream",
          "text": [
            "Ingresa la base8.5\n",
            "Ingresa la altura6.2\n",
            "el área es 52.7\n",
            "el perímetro es 29.4\n"
          ],
          "name": "stdout"
        }
      ]
    },
    {
      "cell_type": "code",
      "metadata": {
        "id": "ddR6McZk19CH"
      },
      "source": [
        ""
      ],
      "execution_count": null,
      "outputs": []
    }
  ]
}