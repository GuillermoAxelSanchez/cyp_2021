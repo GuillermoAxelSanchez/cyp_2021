{
  "nbformat": 4,
  "nbformat_minor": 0,
  "metadata": {
    "colab": {
      "name": "Tarea_3.ipynb",
      "provenance": [],
      "collapsed_sections": [],
      "authorship_tag": "ABX9TyM+XMv6ORN8+C3RyiRxuewK",
      "include_colab_link": true
    },
    "kernelspec": {
      "name": "python3",
      "display_name": "Python 3"
    }
  },
  "cells": [
    {
      "cell_type": "markdown",
      "metadata": {
        "id": "view-in-github",
        "colab_type": "text"
      },
      "source": [
        "<a href=\"https://colab.research.google.com/github/GuillermoAxelSanchez/cyp_2021/blob/main/Tarea_3.ipynb\" target=\"_parent\"><img src=\"https://colab.research.google.com/assets/colab-badge.svg\" alt=\"Open In Colab\"/></a>"
      ]
    },
    {
      "cell_type": "code",
      "metadata": {
        "colab": {
          "base_uri": "https://localhost:8080/"
        },
        "id": "_sJCsL9aoFC8",
        "outputId": "07828db1-5aca-483c-a8f5-571f5cb5cbf3"
      },
      "source": [
        "#problema  1.1 pag 37 by Sánchez Ojeda Guillermo Axel\n",
        "\n",
        "print(\"Este programa calcula el cambio dado un precio de producto y el dinero que dio el \")\n",
        "costo=0\n",
        "pago=0\n",
        "cambio=0\n",
        "\n",
        "costo=float(input(\"Digita el costo del producto: \"))\n",
        "pago=float(input(\"Digita el pago del cliente: \"))\n",
        "cambio=pago-costo\n",
        "\n",
        "if(cambio>=0):\n",
        "  print(f\"Su cambio es {cambio}\")\n",
        "else: print(f\"El cliente aún debe dinero\")\n",
        "\n",
        "  "
      ],
      "execution_count": 5,
      "outputs": [
        {
          "output_type": "stream",
          "text": [
            "Este programa calcula el cambio dado un precio de producto y el dinero que dio el \n",
            "Digita el costo del producto: 4.86\n",
            "Digita el pago del cliente: 50\n",
            "Su cambio es 45.14\n"
          ],
          "name": "stdout"
        }
      ]
    },
    {
      "cell_type": "code",
      "metadata": {
        "colab": {
          "base_uri": "https://localhost:8080/"
        },
        "id": "TSSNBQIzwUwT",
        "outputId": "eb7d8569-32b8-41f4-ac9f-0fc322c6f527"
      },
      "source": [
        "#problemaa 1.2 pag. 38 by Sánchez Ojeda Guillermo Axel\n",
        "print(\"Este programa caclula el área de un triángulo dados su base y altura\")\n",
        "base=0\n",
        "altura=0\n",
        "area=0\n",
        "\n",
        "base=float(input(\"Digite la báse del triángulo, puede usar decimales\"))\n",
        "altura=float(input(\"Digite la altura del triángulo, puede usar decimales\"))\n",
        "area=(base*altura)/2\n",
        "print(f\"El área del triangulo es: {area}\")\n"
      ],
      "execution_count": 6,
      "outputs": [
        {
          "output_type": "stream",
          "text": [
            "Este programa caclula el área de un triángulo dados su base y altura\n",
            "Digite la báse del triángulo, puede usar decimales8.5\n",
            "Digite la altura del triángulo, puede usar decimales7.2\n",
            "El área del triangulo es: 30.6\n"
          ],
          "name": "stdout"
        }
      ]
    },
    {
      "cell_type": "code",
      "metadata": {
        "colab": {
          "base_uri": "https://localhost:8080/"
        },
        "id": "30Hdl2g8ze9h",
        "outputId": "40633d47-d0fb-4213-eba0-c679aaad115b"
      },
      "source": [
        "#problema 1.3  pag. 40 by Sánchez Ojeda Guillermo Axel\n",
        "print(\"Este programa pide el peso y altura de un elfante en toneladas y pies, y te lo regresa en kilos y metros\")\n",
        "nombre=\"\"\n",
        "alturaFt=0\n",
        "pesoTn=0\n",
        "alturaM=0\n",
        "pesoKg=0\n",
        "\n",
        "nombre=input(\"Cuál es el nombre del dinosaurio? \")\n",
        "pesoTn=float(input(f\"Digita el peso en toeladas del {nombre}: \"))\n",
        "alturaFt=float(input(f\"Digita la altura del {nombre} en pies: \"))\n",
        "pesoKg=pesoTn*1000\n",
        "alturaM=alturaFt*0.3047\n",
        "\n",
        "print(f\"La altura de: {nombre} en metros es: {alturaM} y su peso en kilogramos es: {pesoKg}\")\n"
      ],
      "execution_count": 8,
      "outputs": [
        {
          "output_type": "stream",
          "text": [
            "Este programa pide el peso y altura de un elfante en toneladas y pies, y te lo regresa en kilos y metros\n",
            "Cuál es el nombre del dinosaurio?Diplojocus\n",
            "Digita el peso en toeladas del Diplojocus: 15\n",
            "Digita la altura del Diplojocus en pies: 90\n",
            "La altura de: Diplojocus en metros es: 27.423000000000002 y su peso en kilogramos es: 15000.0\n"
          ],
          "name": "stdout"
        }
      ]
    },
    {
      "cell_type": "code",
      "metadata": {
        "colab": {
          "base_uri": "https://localhost:8080/"
        },
        "id": "PGgKk35UyAm4",
        "outputId": "e5d282df-37a6-4c06-f9d2-060efb66894b"
      },
      "source": [
        "#problema 1.4  pag. 42 by Sánchez Ojeda Guillermo Axel\n",
        "print(\"Este programa calcula lo que se le debe ocbrar a un cliente por lo que compra de gasolina en galones usando el precio por litro\")\n",
        "gal=0\n",
        "litr=0\n",
        "costoL=0\n",
        "costoG=0\n",
        "\n",
        "gal=float(input(\"Digita la cantidad de gasolina en galones\"))\n",
        "litr=gal*3.785\n",
        "costoL=float(input(\"digita el costo de la gasolina por cada litro\"))\n",
        "costoG=costoL*litr\n",
        "print(f\"El cliente debe pagar: {costoG} por: {gal} galones de gasolina o: {litr} litros de gasolina \")"
      ],
      "execution_count": 10,
      "outputs": [
        {
          "output_type": "stream",
          "text": [
            "Este programa calcula lo que se le debe ocbrar a un cliente por lo que compra de gasolina en galones usando el precio por litro\n",
            "Digita la cantidad de gasolina en galones15.90\n",
            "digita el costo de la gasolina por cada litro8.20\n",
            "El cliente debe pagar: 493.48830000000004 por: 15.9 galones de gasolina o: 60.18150000000001 litros de gasolina \n"
          ],
          "name": "stdout"
        }
      ]
    },
    {
      "cell_type": "code",
      "metadata": {
        "colab": {
          "base_uri": "https://localhost:8080/"
        },
        "id": "dKIeiFmuZIxC",
        "outputId": "9b669340-a51e-40a4-d312-73b55b513569"
      },
      "source": [
        "#problema 1.5  pag. 44 by Sánchez Ojeda Guillermo Axel\n",
        "print(\"Este programa calcula el área de un cilindro y su volumen dados la altura y el radio\")\n",
        "radio=0\n",
        "altura=0\n",
        "volumen=0\n",
        "area=0\n",
        "\n",
        "radio=float(input(\"Digita el radio del cilindro\"))\n",
        "altura=float(input(\"Digita la altura del ciloindro\"))\n",
        "area=2*3.141592*radio*altura\n",
        "volumen=3.141592*(radio**2)*altura\n",
        "\n",
        "print(f\"el área del cilindro es: {area} y su volumen es: {volumen}\")"
      ],
      "execution_count": 11,
      "outputs": [
        {
          "output_type": "stream",
          "text": [
            "Este programa calcula el área de un cilindro y su volumen dados la altura y el radio\n",
            "Digita el radio del cilindro45.22\n",
            "Digita la altura del ciloindro11.6\n",
            "el área del cilindro es: 3295.856733568 y su volumen es: 74519.32074597248\n"
          ],
          "name": "stdout"
        }
      ]
    },
    {
      "cell_type": "code",
      "metadata": {
        "colab": {
          "base_uri": "https://localhost:8080/"
        },
        "id": "AYEXaD3Fb4q5",
        "outputId": "e36924c8-228f-441e-a251-eb9548014467"
      },
      "source": [
        "#problema 1.6  pag. 45 by Sánchez Ojeda Guillermo Axel\n",
        "print(\"Este programa calcula la cantidad de segundos que hay en un día\")\n",
        "segundos=0\n",
        "dias=0\n",
        "\n",
        "dias=int(input(\"Digite los días\"))\n",
        "segundos=dias*24*60*60\n",
        "\n",
        "print(f\"La cantidad de segundos en: {dias} días es: {segundos}\")"
      ],
      "execution_count": 14,
      "outputs": [
        {
          "output_type": "stream",
          "text": [
            "Este programa calcula la cantidad de segundos que hay en un día\n",
            "Digite los días116\n",
            "La cantidad de segundos en: 116 días es: 10022400\n"
          ],
          "name": "stdout"
        }
      ]
    },
    {
      "cell_type": "code",
      "metadata": {
        "colab": {
          "base_uri": "https://localhost:8080/"
        },
        "id": "_a4-Fs2vc38H",
        "outputId": "89496cd7-b2f3-46aa-b96c-d5ef92dbe20d"
      },
      "source": [
        "#problema 1.7  pag. 47 by Sánchez Ojeda Guillermo Axel\n",
        "print(\"Este programa calcula el área de un tríangulo conociendo sus tres lados\")\n",
        "A=0\n",
        "B=0\n",
        "C=0\n",
        "area=0\n",
        "S=0\n",
        "\n",
        "A=float(input(\"Digite la medida del lado A: \"))\n",
        "B=float(input(\"Digite la medida del lado B: \"))\n",
        "C=float(input(\"Digite la medida del lado C: \"))\n",
        "S=(A+B+C)/2\n",
        "area=(S*(S-A)*(S-B)*(S-C))**.5\n",
        "\n",
        "print(f\"El área del triángulo es: {area}\")\n",
        "print(f\"cálculo auxiliar: {S} \")\n"
      ],
      "execution_count": 16,
      "outputs": [
        {
          "output_type": "stream",
          "text": [
            "Este programa calcula el área de un tríangulo conociendo sus tres lados\n",
            "Digite la medida del lado A: 7.5\n",
            "Digite la medida del lado B: 7.5\n",
            "Digite la medida del lado C: 7.5\n",
            "El área del triángulo es: 24.356964481437338\n",
            "cálculo auxiliar: 11.25 \n"
          ],
          "name": "stdout"
        }
      ]
    }
  ]
}