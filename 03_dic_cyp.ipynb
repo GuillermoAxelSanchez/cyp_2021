{
  "nbformat": 4,
  "nbformat_minor": 0,
  "metadata": {
    "colab": {
      "name": "03_dic_cyp.ipynb",
      "provenance": [],
      "authorship_tag": "ABX9TyOfynst0BJKvws4urNvYTys",
      "include_colab_link": true
    },
    "kernelspec": {
      "name": "python3",
      "display_name": "Python 3"
    }
  },
  "cells": [
    {
      "cell_type": "markdown",
      "metadata": {
        "id": "view-in-github",
        "colab_type": "text"
      },
      "source": [
        "<a href=\"https://colab.research.google.com/github/GuillermoAxelSanchez/cyp_2021/blob/main/03_dic_cyp.ipynb\" target=\"_parent\"><img src=\"https://colab.research.google.com/assets/colab-badge.svg\" alt=\"Open In Colab\"/></a>"
      ]
    },
    {
      "cell_type": "code",
      "metadata": {
        "colab": {
          "base_uri": "https://localhost:8080/"
        },
        "id": "zPckYImIlhGT",
        "outputId": "6f7539b1-c946-4244-926f-19d94e507b82"
      },
      "source": [
        "#Ejemplo 1\n",
        "for i in[1,2,3,4,5]:\n",
        "  print(f\"el elemento {i}\")"
      ],
      "execution_count": 2,
      "outputs": [
        {
          "output_type": "stream",
          "text": [
            "el elemento 1\n",
            "el elemento 2\n",
            "el elemento 3\n",
            "el elemento 4\n",
            "el elemento 5\n"
          ],
          "name": "stdout"
        }
      ]
    },
    {
      "cell_type": "code",
      "metadata": {
        "colab": {
          "base_uri": "https://localhost:8080/"
        },
        "id": "jfQwr7EZnN_d",
        "outputId": "21f8bfba-0555-4351-c985-2e20da11721b"
      },
      "source": [
        "#ejemplo 2\n",
        "coleccion={1,2,3,4,5}\n",
        "for i in coleccion:\n",
        "  print(f\"El elemento {i}\")"
      ],
      "execution_count": 9,
      "outputs": [
        {
          "output_type": "stream",
          "text": [
            "El elemento 1\n",
            "El elemento 2\n",
            "El elemento 3\n",
            "El elemento 4\n",
            "El elemento 5\n"
          ],
          "name": "stdout"
        }
      ]
    },
    {
      "cell_type": "code",
      "metadata": {
        "colab": {
          "base_uri": "https://localhost:8080/"
        },
        "id": "laW_faG1n2Tu",
        "outputId": "d84fb500-61e1-470e-e4ca-42305443d249"
      },
      "source": [
        "#ejemplo 2\n",
        "coleccion={\"Mario\":20,\"Mariana\":19, \"Yes\":14, \"Luis\":18}\n",
        "for i in coleccion:\n",
        "  print(f\"Elemento: {i}\")"
      ],
      "execution_count": 7,
      "outputs": [
        {
          "output_type": "stream",
          "text": [
            "Elemento: Mario\n",
            "Elemento: Mariana\n",
            "Elemento: Yes\n",
            "Elemento: Luis\n"
          ],
          "name": "stdout"
        }
      ]
    },
    {
      "cell_type": "code",
      "metadata": {
        "colab": {
          "base_uri": "https://localhost:8080/"
        },
        "id": "uGhIY7L0ounk",
        "outputId": "981219fe-c7be-4506-a828-53c6f6f5f0a3"
      },
      "source": [
        "#ejemplo 2\n",
        "coleccion={\"Mario\":20,\"Mariana\":19, \"Yes\":14, \"Luis\":18}\n",
        "for i in coleccion:\n",
        "  print(f\"Elemento: {coleccion[i]}\"){i}"
      ],
      "execution_count": 13,
      "outputs": [
        {
          "output_type": "stream",
          "text": [
            "Elemento: 20\n",
            "Elemento: 19\n",
            "Elemento: 14\n",
            "Elemento: 18\n"
          ],
          "name": "stdout"
        }
      ]
    },
    {
      "cell_type": "code",
      "metadata": {
        "colab": {
          "base_uri": "https://localhost:8080/"
        },
        "id": "VMrmsHsfqMd7",
        "outputId": "0f89360b-ba0b-41b5-f8dd-73e0df12263c"
      },
      "source": [
        "#ejemplo 2\n",
        "coleccion={\"Mario\":20,\"Mariana\":19, \"Yes\":14, \"Luis\":18}\n",
        "for clave, valor in coleccion.items():\n",
        "  print(f\"{clave}->{valor}\")"
      ],
      "execution_count": 18,
      "outputs": [
        {
          "output_type": "stream",
          "text": [
            "Mario->20\n",
            "Mariana->19\n",
            "Yes->14\n",
            "Luis->18\n"
          ],
          "name": "stdout"
        }
      ]
    },
    {
      "cell_type": "code",
      "metadata": {
        "colab": {
          "base_uri": "https://localhost:8080/"
        },
        "id": "EE_TkHFxsIWU",
        "outputId": "4ec62a38-a8b5-4b3c-cb11-387117d43e3a"
      },
      "source": [
        "#Ejemplo 3\n",
        "email=False\n",
        "\n",
        "for i in\"axelojeda04@aragon.unam.mx\":\n",
        "  if(i==\"@\"):\n",
        "    email=True\n",
        "\n",
        "if(email==True):\n",
        "  print(\"Es correcto\")\n",
        "else:\n",
        "  print(\"No es correcto\")"
      ],
      "execution_count": 26,
      "outputs": [
        {
          "output_type": "stream",
          "text": [
            "Es correcto\n"
          ],
          "name": "stdout"
        }
      ]
    },
    {
      "cell_type": "code",
      "metadata": {
        "colab": {
          "base_uri": "https://localhost:8080/"
        },
        "id": "U80TfvLotsXX",
        "outputId": "a0587702-dab7-45e7-bbcf-c0af35ae12ca"
      },
      "source": [
        "#Ejemplo 3\n",
        "email=False\n",
        "correo=input(\"escribe un correo\")\n",
        "for i in correo:\n",
        "  if(i==\"@\"):\n",
        "    email=True\n",
        "\n",
        "if email:\n",
        "  print(\"Es correcto\")\n",
        "else:\n",
        "  print(\"No es correcto\")"
      ],
      "execution_count": 28,
      "outputs": [
        {
          "output_type": "stream",
          "text": [
            "escribe un correomeaosdf\n",
            "No es correcto\n"
          ],
          "name": "stdout"
        }
      ]
    },
    {
      "cell_type": "code",
      "metadata": {
        "colab": {
          "base_uri": "https://localhost:8080/"
        },
        "id": "Ek7EVadevE-z",
        "outputId": "21991cce-f794-48f6-bcb7-6320a668861f"
      },
      "source": [
        "#for-range\n",
        "for i in range(5):\n",
        "  print(\"hola\")"
      ],
      "execution_count": 31,
      "outputs": [
        {
          "output_type": "stream",
          "text": [
            "hola\n",
            "hola\n",
            "hola\n",
            "hola\n",
            "hola\n"
          ],
          "name": "stdout"
        }
      ]
    },
    {
      "cell_type": "code",
      "metadata": {
        "colab": {
          "base_uri": "https://localhost:8080/"
        },
        "id": "F2F0I6V8vbym",
        "outputId": "97f82b9a-2f9c-43f8-d99f-265e8dba5ab0"
      },
      "source": [
        "#for-range\n",
        "for i in range(5):\n",
        "  print(i)"
      ],
      "execution_count": 32,
      "outputs": [
        {
          "output_type": "stream",
          "text": [
            "0\n",
            "1\n",
            "2\n",
            "3\n",
            "4\n"
          ],
          "name": "stdout"
        }
      ]
    },
    {
      "cell_type": "code",
      "metadata": {
        "colab": {
          "base_uri": "https://localhost:8080/"
        },
        "id": "qTVUGWsXwTc0",
        "outputId": "1b335d3a-7653-4e7e-c412-5e5ea1ee2210"
      },
      "source": [
        "#for-range\n",
        "for i in range(10):\n",
        "  print(f\"Valor de la variable {i}\")"
      ],
      "execution_count": 33,
      "outputs": [
        {
          "output_type": "stream",
          "text": [
            "Valor de la variable 0\n",
            "Valor de la variable 1\n",
            "Valor de la variable 2\n",
            "Valor de la variable 3\n",
            "Valor de la variable 4\n",
            "Valor de la variable 5\n",
            "Valor de la variable 6\n",
            "Valor de la variable 7\n",
            "Valor de la variable 8\n",
            "Valor de la variable 9\n"
          ],
          "name": "stdout"
        }
      ]
    },
    {
      "cell_type": "code",
      "metadata": {
        "id": "Prcgs3JZx_lZ"
      },
      "source": [
        "#while ejemplos\n",
        "#Ej. 1\n",
        "i=1\n",
        "while i<=10:\n",
        "  print(f\"ejecucion\"+str(i))\n"
      ],
      "execution_count": null,
      "outputs": []
    },
    {
      "cell_type": "code",
      "metadata": {
        "colab": {
          "base_uri": "https://localhost:8080/"
        },
        "id": "0k9RZq1Az3tN",
        "outputId": "04b9f598-df0c-4092-8035-182d4fa2807d"
      },
      "source": [
        "#while ejemplos\n",
        "#Ej. 1\n",
        "i=1\n",
        "while i<=10:\n",
        "  print(f\"funcion\"+str(i))\n",
        "  i=i+1"
      ],
      "execution_count": 39,
      "outputs": [
        {
          "output_type": "stream",
          "text": [
            "funcion1\n",
            "funcion2\n",
            "funcion3\n",
            "funcion4\n",
            "funcion5\n",
            "funcion6\n",
            "funcion7\n",
            "funcion8\n",
            "funcion9\n",
            "funcion10\n"
          ],
          "name": "stdout"
        }
      ]
    },
    {
      "cell_type": "code",
      "metadata": {
        "colab": {
          "base_uri": "https://localhost:8080/"
        },
        "id": "u4cbBEOK00du",
        "outputId": "53daffe5-6f02-4b9e-dc8c-8653211684d3"
      },
      "source": [
        "edad=int(input(\"digiata tu edad\"))\n",
        "while edad<0:\n",
        "  print(\"Edad incorrecta, de nuevo\")\n",
        "  edad=int(input(\"digiata tu edad\"))\n",
        "print(\"buen día\")\n",
        "print(f\"Edad del aspirante {edad}\")"
      ],
      "execution_count": 43,
      "outputs": [
        {
          "output_type": "stream",
          "text": [
            "digiata tu edad-7\n",
            "Edad incorrecta, de nuevo\n",
            "digiata tu edad-7\n",
            "Edad incorrecta, de nuevo\n",
            "digiata tu edad-5\n",
            "Edad incorrecta, de nuevo\n",
            "digiata tu edad45663754745645\n",
            "buen día\n",
            "Edad del aspirante 45663754745645\n"
          ],
          "name": "stdout"
        }
      ]
    },
    {
      "cell_type": "code",
      "metadata": {
        "colab": {
          "base_uri": "https://localhost:8080/"
        },
        "id": "fRhUvDCP15eo",
        "outputId": "ced5458c-7bd1-41f1-b65e-f50a172e906d"
      },
      "source": [
        "edad=int(input(\"Digita tu edad\"))\n",
        "while (edad<=10 or edad>=100):\n",
        "  print(\"Edad incorrecta, de nuevo: \")\n",
        "  edad=int(input(\"Digita tu edad, pero bien: \"))\n",
        "print(\"Buen día, guapo \")\n",
        "print(f\"Edad del aspirante {edad}\")"
      ],
      "execution_count": 54,
      "outputs": [
        {
          "output_type": "stream",
          "text": [
            "Digita tu edad10\n",
            "Edad incorrecta, de nuevo: \n",
            "Digita tu edad, pero bien: 12\n",
            "Buen día, guapo \n",
            "Edad del aspirante 12\n"
          ],
          "name": "stdout"
        }
      ]
    }
  ]
}