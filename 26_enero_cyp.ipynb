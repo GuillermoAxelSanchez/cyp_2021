{
  "nbformat": 4,
  "nbformat_minor": 0,
  "metadata": {
    "colab": {
      "name": "26_enero_cyp.ipynb",
      "provenance": [],
      "authorship_tag": "ABX9TyMbWNalKe6LWMilAmqnWEJh",
      "include_colab_link": true
    },
    "kernelspec": {
      "name": "python3",
      "display_name": "Python 3"
    }
  },
  "cells": [
    {
      "cell_type": "markdown",
      "metadata": {
        "id": "view-in-github",
        "colab_type": "text"
      },
      "source": [
        "<a href=\"https://colab.research.google.com/github/GuillermoAxelSanchez/cyp_2021/blob/main/26_enero_cyp.ipynb\" target=\"_parent\"><img src=\"https://colab.research.google.com/assets/colab-badge.svg\" alt=\"Open In Colab\"/></a>"
      ]
    },
    {
      "cell_type": "markdown",
      "metadata": {
        "id": "IN5qPaC7tGBY"
      },
      "source": [
        "# Listas del lenguaje python 3\r\n",
        "1. Es una estructura de datos lineal de 0 o n elementos.\r\n",
        "1. Equivalente a los \"arreglos\".\r\n",
        "1. Pueden ser de diferente tipos de dato. [1,2,3,4] , [1,True, 2.34,\"hola\"]\r\n",
        "1. Pueden ser anidados, listas de listas.\r\n",
        "1. Su selector es de la forma:[ int ] \r\n",
        "1. Son mutables, es decir, se pueden modificar.\r\n",
        " "
      ]
    },
    {
      "cell_type": "code",
      "metadata": {
        "colab": {
          "base_uri": "https://localhost:8080/"
        },
        "id": "xeCKDcBvu8y0",
        "outputId": "0bb5f129-356a-4127-9d09-f4de607f9a2d"
      },
      "source": [
        "# Ejemplos \r\n",
        "numeros = [2,3,34,2,42,25]\r\n",
        "print(numeros)\r\n",
        "print(numeros[2])\r\n",
        "\r\n",
        "# lista de cero elementos\r\n",
        "colores = [] #list{}\r\n",
        "type(colores) #Averiguar de qué tipo de dato es ina variable usando la funcion type\r\n",
        "\r\n",
        "dias = list()\r\n",
        "print(colores)\r\n",
        "print(dias)"
      ],
      "execution_count": 5,
      "outputs": [
        {
          "output_type": "stream",
          "text": [
            "[2, 3, 34, 2, 42, 25]\n",
            "34\n",
            "[]\n",
            "[]\n"
          ],
          "name": "stdout"
        }
      ]
    },
    {
      "cell_type": "code",
      "metadata": {
        "colab": {
          "base_uri": "https://localhost:8080/"
        },
        "id": "6X_RItLEwHfn",
        "outputId": "f61e1bc7-354d-441b-8b30-2474d17101b9"
      },
      "source": [
        "#PUEDEN SER DE DIFERENTE TIPO DE DATOS\r\n",
        "mi_lista = [1,2,3,\"josé\", False, 1.76, [23423454, 2461975445]]\r\n",
        "print(mi_lista)\r\n",
        "print(mi_lista[6][1])\r\n",
        "print(mi_lista[3][-1])#con los índices normales\r\n",
        "print(mi_lista[3][3::])#con rebanado\r\n",
        "print(mi_lista[3][-1::1])#con rebanado e indexado inverso\r\n",
        "\r\n",
        "print(str(mi_lista[6][1])[2])\r\n"
      ],
      "execution_count": 16,
      "outputs": [
        {
          "output_type": "stream",
          "text": [
            "[1, 2, 3, 'josé', False, 1.76, [23423454, 2461975445]]\n",
            "2461975445\n",
            "é\n",
            "é\n",
            "é\n",
            "6\n"
          ],
          "name": "stdout"
        }
      ]
    },
    {
      "cell_type": "code",
      "metadata": {
        "colab": {
          "base_uri": "https://localhost:8080/"
        },
        "id": "782Y4sxq0TCb",
        "outputId": "9fc554b6-9306-4b3f-8f46-bb86764d9f40"
      },
      "source": [
        "frutas = [\"melon\", \"sandía\",\"kiwi\", \"aguacate\", \"plátano\"]\r\n",
        "print(frutas)\r\n",
        "frutas[0]=\"Melón\"\r\n",
        "print(frutas)\r\n",
        "#frutas[1][0]=\"S\"\r\n",
        "frutas[1]=frutas[1].capitalize()\r\n",
        "print(frutas)"
      ],
      "execution_count": 22,
      "outputs": [
        {
          "output_type": "stream",
          "text": [
            "['melon', 'sandía', 'kiwi', 'aguacate', 'plátano']\n",
            "['Melón', 'sandía', 'kiwi', 'aguacate', 'plátano']\n",
            "['Melón', 'Sandía', 'kiwi', 'aguacate', 'plátano']\n"
          ],
          "name": "stdout"
        }
      ]
    },
    {
      "cell_type": "code",
      "metadata": {
        "colab": {
          "base_uri": "https://localhost:8080/"
        },
        "id": "JlilOSpr2GW5",
        "outputId": "2546bfe8-727c-4b38-a82a-de6eb4336a88"
      },
      "source": [
        "# Las listas son calses y por lo tanto tienen metodos\r\n",
        " # help(list) Para una lista detallada\r\n",
        " # dir(list) Para una lista rapida\r\n",
        "# ejemplo Append: agrega un elemento al final\r\n",
        "frutas = [\"melon\", \"sandía\",\"kiwi\", \"aguacate\", \"plátano\"]\r\n",
        "frutas.append(\"Fresa\")\r\n",
        "print(frutas)\r\n",
        "\r\n",
        "print(\"\\nEjemplo de copias\")\r\n",
        "otras_frutas=frutas.copy()\r\n",
        "print(frutas)\r\n",
        "print(otras_frutas)\r\n",
        "otras_frutas[0]=\"chicozapote\"\r\n",
        "print(otras_frutas)\r\n",
        "print(frutas)\r\n",
        "\r\n",
        "\r\n",
        "print(\"\\nEjemplos de extend\")\r\n",
        "colores=[\"rojo\",\"verde\",\"azul\"]\r\n",
        "#frutas.append(colores)#lo agrega como lista\r\n",
        "print(frutas)\r\n",
        "frutas.extend(colores)#Lo agrega como elemento nuevo\r\n",
        "print(frutas)\r\n",
        "\r\n",
        "print(\"\\nEjemplo de Insert\")\r\n",
        "print(f\"Tamaño de la lista = {len(frutas)}\")\r\n",
        "frutas.insert(3,\"Limoon\")\r\n",
        "print(frutas)\r\n",
        "print(f\"Tamaño de la lista después de insert('limon') = {len(frutas)}\")\r\n",
        "\r\n",
        "print(\"\\nEjemplo Remove, eliminar el kiwi\")\r\n",
        "frutas.remove(\"kiwi\")\r\n",
        "print(frutas)\r\n",
        "print(\"\\nEjemplo Del\")\r\n",
        "del frutas[2]\r\n",
        "print(frutas)\r\n",
        "\r\n",
        "print(\"-------------\")\r\n",
        "cosas = [\"jose\",True,2,3,4,5,\"pedro\",1.23]\r\n",
        "indice = 0\r\n",
        "a_eliminar=[]\r\n",
        "for elemento in cosas:\r\n",
        "    if isinstance( elemento , int ) :\r\n",
        "        print(\"entero\",elemento) # cosas.remove(elemento)\r\n",
        "        a_eliminar.append(elemento)\r\n",
        "    indice += 1\r\n",
        "\r\n",
        "print(a_eliminar)\r\n",
        "for indice in a_eliminar:\r\n",
        "    print( indice)\r\n",
        "    cosas.remove(indice)\r\n",
        "print(cosas)\r\n",
        "frutas.clear()\r\n",
        "print(frutas)"
      ],
      "execution_count": 51,
      "outputs": [
        {
          "output_type": "stream",
          "text": [
            "['melon', 'sandía', 'kiwi', 'aguacate', 'plátano', 'Fresa']\n",
            "\n",
            "Ejemplo de copias\n",
            "['melon', 'sandía', 'kiwi', 'aguacate', 'plátano', 'Fresa']\n",
            "['melon', 'sandía', 'kiwi', 'aguacate', 'plátano', 'Fresa']\n",
            "['chicozapote', 'sandía', 'kiwi', 'aguacate', 'plátano', 'Fresa']\n",
            "['melon', 'sandía', 'kiwi', 'aguacate', 'plátano', 'Fresa']\n",
            "\n",
            "Ejemplos de extend\n",
            "['melon', 'sandía', 'kiwi', 'aguacate', 'plátano', 'Fresa']\n",
            "['melon', 'sandía', 'kiwi', 'aguacate', 'plátano', 'Fresa', 'rojo', 'verde', 'azul']\n",
            "\n",
            "Ejemplo de Insert\n",
            "Tamaño de la lista = 9\n",
            "['melon', 'sandía', 'kiwi', 'Limoon', 'aguacate', 'plátano', 'Fresa', 'rojo', 'verde', 'azul']\n",
            "Tamaño de la lista después de insert('limon') = 10\n",
            "\n",
            "Ejemplo Remove, eliminar el kiwi\n",
            "['melon', 'sandía', 'Limoon', 'aguacate', 'plátano', 'Fresa', 'rojo', 'verde', 'azul']\n",
            "\n",
            "Ejemplo Del\n",
            "['melon', 'sandía', 'aguacate', 'plátano', 'Fresa', 'rojo', 'verde', 'azul']\n",
            "-------------\n",
            "entero True\n",
            "entero 2\n",
            "entero 3\n",
            "entero 4\n",
            "entero 5\n",
            "[True, 2, 3, 4, 5]\n",
            "True\n",
            "2\n",
            "3\n",
            "4\n",
            "5\n",
            "['jose', 'pedro', 1.23]\n",
            "[]\n"
          ],
          "name": "stdout"
        }
      ]
    },
    {
      "cell_type": "code",
      "metadata": {
        "colab": {
          "base_uri": "https://localhost:8080/"
        },
        "id": "JOpUxkcXFIc3",
        "outputId": "7dd9178b-5c3a-4d18-cf3a-e81f80c009f3"
      },
      "source": [
        "#slicing sobre lista\r\n",
        "frutas = [\"melon\", \"sandía\",\"kiwi\", \"aguacate\",\"mango\", \"plátano\"]\r\n",
        "\r\n",
        "print(frutas[1:4:])\r\n",
        "\r\n",
        "sistemas_operativos = [\"Windows\", \"Mac\", \"Linux\", \"Android\"]\r\n",
        "autos=[\"Ford\", \"Mazda\", \"Honda\"]\r\n",
        "\r\n",
        "cosas=[sistemas_operativos , autos]\r\n",
        "#cosas=cosas.estend(sistemas_operativos)\r\n",
        "#cosas=cosas.extend(autos)\r\n",
        "\r\n",
        "print(cosas)\r\n",
        "print(cosas[1])\r\n",
        "print(cosas[0][2])\r\n",
        "print(cosas[0][3][2:5:1])\r\n",
        "print(cosas[1][1][-2:0:-1])\r\n"
      ],
      "execution_count": 68,
      "outputs": [
        {
          "output_type": "stream",
          "text": [
            "['sandía', 'kiwi', 'aguacate']\n",
            "[['Windows', 'Mac', 'Linux', 'Android'], ['Ford', 'Mazda', 'Honda']]\n",
            "['Ford', 'Mazda', 'Honda']\n",
            "Linux\n",
            "dro\n",
            "dza\n"
          ],
          "name": "stdout"
        }
      ]
    }
  ]
}