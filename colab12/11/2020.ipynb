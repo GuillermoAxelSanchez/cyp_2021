{
  "nbformat": 4,
  "nbformat_minor": 0,
  "metadata": {
    "colab": {
      "name": "colab1.ipynb",
      "provenance": [],
      "authorship_tag": "ABX9TyPi7PdDXzFJieAJ+U/jNqQm",
      "include_colab_link": true
    },
    "kernelspec": {
      "name": "python3",
      "display_name": "Python 3"
    }
  },
  "cells": [
    {
      "cell_type": "markdown",
      "metadata": {
        "id": "view-in-github",
        "colab_type": "text"
      },
      "source": [
        "<a href=\"https://colab.research.google.com/github/GuillermoAxelSanchez/cyp_2021/blob/main/colab12/11/2020.ipynb\" target=\"_parent\"><img src=\"https://colab.research.google.com/assets/colab-badge.svg\" alt=\"Open In Colab\"/></a>"
      ]
    },
    {
      "cell_type": "code",
      "metadata": {
        "id": "ZrxKE1-TcELZ",
        "outputId": "b9aabceb-9c0b-4845-f67b-aa4a9999e636",
        "colab": {
          "base_uri": "https://localhost:8080/"
        }
      },
      "source": [
        "numero= int (input(\"dame un numero \"))\n",
        "if numero>=0:\n",
        "  print(\"el numero es positovo\")\n",
        "print(\"fin del programa\")\n",
        "\n",
        "\n",
        "\n"
      ],
      "execution_count": 3,
      "outputs": [
        {
          "output_type": "stream",
          "text": [
            "dame un numero5\n",
            "el numero es positovo\n",
            "El numero es egativo\n"
          ],
          "name": "stdout"
        }
      ]
    },
    {
      "cell_type": "code",
      "metadata": {
        "id": "zEr25qupfDmv",
        "outputId": "93d1592a-9ad2-4992-8963-2af86c938846",
        "colab": {
          "base_uri": "https://localhost:8080/"
        }
      },
      "source": [
        "numero= int (input(\"dame un numero \"))\n",
        "if numero>=0:\n",
        "  print(\"el numero es positovo\")\n",
        "else:\n",
        "  print(\"el numero es negativo\")\n",
        "print(\"Fin\")"
      ],
      "execution_count": 6,
      "outputs": [
        {
          "output_type": "stream",
          "text": [
            "dame un numero 5\n",
            "el numero es positovo\n",
            "Fin\n"
          ],
          "name": "stdout"
        }
      ]
    },
    {
      "cell_type": "code",
      "metadata": {
        "id": "TDiombr8g6az",
        "outputId": "04d0d4e0-3a94-4158-951c-c740d671cde3",
        "colab": {
          "base_uri": "https://localhost:8080/"
        }
      },
      "source": [
        "numero= int (input(\"dame un numero \"))\n",
        "if numero>0:\n",
        "  print(\"el numero es positivo\")\n",
        "elif numero==0:\n",
        "  print(\"El cero no es positivo ni negativo\")\n",
        "else:\n",
        "  print(\"el numero es negativo\")\n",
        "print(\"Fin\")"
      ],
      "execution_count": 10,
      "outputs": [
        {
          "output_type": "stream",
          "text": [
            "dame un numero -1\n",
            "el numero es negativo\n",
            "Fin\n"
          ],
          "name": "stdout"
        }
      ]
    }
  ]
}