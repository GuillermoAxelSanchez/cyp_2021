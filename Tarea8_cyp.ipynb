{
  "nbformat": 4,
  "nbformat_minor": 0,
  "metadata": {
    "colab": {
      "name": "Tarea8_cyp.ipynb",
      "provenance": [],
      "authorship_tag": "ABX9TyPycVBJPrmg+HdKv3gb7rWa",
      "include_colab_link": true
    },
    "kernelspec": {
      "name": "python3",
      "display_name": "Python 3"
    }
  },
  "cells": [
    {
      "cell_type": "markdown",
      "metadata": {
        "id": "view-in-github",
        "colab_type": "text"
      },
      "source": [
        "<a href=\"https://colab.research.google.com/github/GuillermoAxelSanchez/cyp_2021/blob/main/Tarea8_cyp.ipynb\" target=\"_parent\"><img src=\"https://colab.research.google.com/assets/colab-badge.svg\" alt=\"Open In Colab\"/></a>"
      ]
    },
    {
      "cell_type": "code",
      "metadata": {
        "id": "KElelNRcmDye",
        "colab": {
          "base_uri": "https://localhost:8080/"
        },
        "outputId": "6991df27-4839-433f-c0db-5f6c22e1b339"
      },
      "source": [
        "#Marco con print\r\n",
        "space=\"      \"#6 espacios\r\n",
        "print(\"GUILLERMO AXEL SANCHEZ OJEDA\")\r\n",
        "print(\"\\u090b\\u090b\\u090b\\u090b\\u090b\\u090b\\u090b\\u090b\\u090b\\u090b\\u090b\\u090b\\u090b\\u090b\\u090b\\u090b\\u090b\\u090b\\u090b\\u090b\\u090b\\u090b\\u090b\\u090b\\u090b\\u090b\\u090b\\u090b\\u090b\\u090b\\u090b\\u090b\\u090b\\u090b\\u090b\\u090b\\u090b\\u090b\\u090b\\u090b\\u090b\\u090b\\u090b\\u090b\\u090b\\u090b\\u090b\\u090b\\u090b\\u090b\\u090b\\u090b\\u090b\\u090b\\u090b\\u090b\\u090b\\u090b\\u090b\\u090b\\u090b\\u090b\\u090b\\u090b\\u090b\\u090b\\u090b\\u090b\\u090b\\u090b\\u090b\\u090b\\u090b\\u090b\\u090b\\u090b\\u090b\\u090b\\u090b\\u090b\\u090b\\u090b\\u090b\\u090b\\u090b\\u090b\\u090b\\u090b\\u090b\\u090b\\u090b\\u090b\\u090b\\u090b\\u090b\\u090b\\u090b\\u090b\\u090b\\u090b\\u090b\\u090b\\u090b\\u090b\")\r\n",
        "print(\"\\u0904\",space,space,space,space,space,space,space,space,space,space,space,space,space,space,space,space,space,space,space,space,space,space,space,space,\"\\u0904\")\r\n",
        "print(\"\\u0904\",space,space,space,space,space,space,space,space,space,space,space,space,space,space,space,space,space,space,space,space,space,space,space,space,\"\\u0904\")\r\n",
        "print(\"\\u0904\",space,space,space,space,space,space,space,space,space,space,space,space,space,space,space,space,space,space,space,space,space,space,space,space,\"\\u0904\")\r\n",
        "print(\"\\u0904\",space,space,space,space,space,space,space,space,space,space,space,space,space,space,space,space,space,space,space,space,space,space,space,space,\"\\u0904\")\r\n",
        "print(\"\\u0904\",space,space,space,space,space,space,space,space,space,space,space,space,space,space,space,space,space,space,space,space,space,space,space,space,\"\\u0904\")\r\n",
        "print(\"\\u0904\",space,space,\"\\u25d9\\u25d9\\u25d9\\u25d9\\u25d9\\u25d9\",space,space,space,\"\\u25d9\\u25d9\\u25d9\\u25d9\\u25d9\\u25d9\",space,\"\\u25d9\\u25d9\\u25d9\\u25d9\\u25d9\\u25d9\",\"\\u25d9\\u25d9\\u25d9\\u25d9\\u25d9\\u25d9\",\"\\u25d9\\u25d9\\u25d9\\u25d9\\u25d9\\u25d9\",space,\"\\u25d9\\u25d9\\u25d9\\u25d9\\u25d9\\u25d9\",space,space,space,\"\\u25d9\\u25d9\\u25d9\\u25d9\\u25d9\\u25d9\",space,\"\\u25d9\\u25d9\\u25d9\\u25d9\\u25d9\\u25d9\",\"\\u25d9\\u25d9\\u25d9\\u25d9\\u25d9\\u25d9\",\"\\u25d9\\u25d9\\u25d9\\u25d9\\u25d9\\u25d9\",\"\\u25d9\\u25d9\\u25d9\\u25d9\\u25d9\\u25d9\",space,space,\"\\u0904\")\r\n",
        "print(\"\\u0904\",space,space,\"\\u25d9\\u25d9\\u25d9\\u25d9\\u25d9\\u25d9\",space,space,space,\"\\u25d9\\u25d9\\u25d9\\u25d9\\u25d9\\u25d9\",space,\"\\u25d9\\u25d9\\u25d9\\u25d9\\u25d9\\u25d9\",\"\\u25d9\\u25d9\\u25d9\\u25d9\\u25d9\\u25d9\",\"\\u25d9\\u25d9\\u25d9\\u25d9\\u25d9\\u25d9\",space,\"\\u25d9\\u25d9\\u25d9\\u25d9\\u25d9\\u25d9\",space,space,space,\"\\u25d9\\u25d9\\u25d9\\u25d9\\u25d9\\u25d9\",space,\"\\u25d9\\u25d9\\u25d9\\u25d9\\u25d9\\u25d9\",\"\\u25d9\\u25d9\\u25d9\\u25d9\\u25d9\\u25d9\",\"\\u25d9\\u25d9\\u25d9\\u25d9\\u25d9\\u25d9\",\"\\u25d9\\u25d9\\u25d9\\u25d9\\u25d9\\u25d9\",space,space,\"\\u0904\")\r\n",
        "print(\"\\u0904\",space,space,\"\\u25d9\\u25d9\\u25d9\\u25d9\\u25d9\\u25d9\",space,space,space,\"\\u25d9\\u25d9\\u25d9\\u25d9\\u25d9\\u25d9\",space,\"\\u25d9\\u25d9\\u25d9\\u25d9\\u25d9\\u25d9\",\"\\u25d9\\u25d9\\u25d9\\u25d9\\u25d9\\u25d9\",\"\\u25d9\\u25d9\\u25d9\\u25d9\\u25d9\\u25d9\",space,\"\\u25d9\\u25d9\\u25d9\\u25d9\\u25d9\\u25d9\",space,space,space,\"\\u25d9\\u25d9\\u25d9\\u25d9\\u25d9\\u25d9\",space,\"\\u25d9\\u25d9\\u25d9\\u25d9\\u25d9\\u25d9\",\"\\u25d9\\u25d9\\u25d9\\u25d9\\u25d9\\u25d9\",\"\\u25d9\\u25d9\\u25d9\\u25d9\\u25d9\\u25d9\",\"\\u25d9\\u25d9\\u25d9\\u25d9\\u25d9\\u25d9\",space,space,\"\\u0904\")\r\n",
        "print(\"\\u0904\",space,space,\"\\u25d9\\u25d9\\u25d9\\u25d9\\u25d9\\u25d9\",\"\\u25d9\\u25d9\\u25d9\\u25d9\\u25d9\\u25d9\",space,\"\\u25d9\\u25d9\\u25d9\\u25d9\\u25d9\\u25d9\",\"\\u25d9\\u25d9\\u25d9\\u25d9\\u25d9\\u25d9\",space,\"\\u25d9\\u25d9\\u25d9\\u25d9\\u25d9\\u25d9\",space,space,space,\"\\u25d9\\u25d9\\u25d9\\u25d9\\u25d9\\u25d9\",\"\\u25d9\\u25d9\\u25d9\\u25d9\\u25d9\\u25d9\",space,\"\\u25d9\\u25d9\\u25d9\\u25d9\\u25d9\\u25d9\",\"\\u25d9\\u25d9\\u25d9\\u25d9\\u25d9\\u25d9\",space,\"\\u25d9\\u25d9\\u25d9\\u25d9\\u25d9\\u25d9\",space,space,\"\\u25d9\\u25d9\\u25d9\\u25d9\\u25d9\\u25d9\",space,space,\"\\u0904\")\r\n",
        "print(\"\\u0904\",space,space,\"\\u25d9\\u25d9\\u25d9\\u25d9\\u25d9\\u25d9\",\"\\u25d9\\u25d9\\u25d9\\u25d9\\u25d9\\u25d9\",space,\"\\u25d9\\u25d9\\u25d9\\u25d9\\u25d9\\u25d9\",\"\\u25d9\\u25d9\\u25d9\\u25d9\\u25d9\\u25d9\",space,\"\\u25d9\\u25d9\\u25d9\\u25d9\\u25d9\\u25d9\",space,space,space,\"\\u25d9\\u25d9\\u25d9\\u25d9\\u25d9\\u25d9\",\"\\u25d9\\u25d9\\u25d9\\u25d9\\u25d9\\u25d9\",space,\"\\u25d9\\u25d9\\u25d9\\u25d9\\u25d9\\u25d9\",\"\\u25d9\\u25d9\\u25d9\\u25d9\\u25d9\\u25d9\",space,\"\\u25d9\\u25d9\\u25d9\\u25d9\\u25d9\\u25d9\",space,space,\"\\u25d9\\u25d9\\u25d9\\u25d9\\u25d9\\u25d9\",space,space,\"\\u0904\")\r\n",
        "print(\"\\u0904\",space,space,\"\\u25d9\\u25d9\\u25d9\\u25d9\\u25d9\\u25d9\",\"\\u25d9\\u25d9\\u25d9\\u25d9\\u25d9\\u25d9\",space,\"\\u25d9\\u25d9\\u25d9\\u25d9\\u25d9\\u25d9\",\"\\u25d9\\u25d9\\u25d9\\u25d9\\u25d9\\u25d9\",space,\"\\u25d9\\u25d9\\u25d9\\u25d9\\u25d9\\u25d9\",space,space,space,\"\\u25d9\\u25d9\\u25d9\\u25d9\\u25d9\\u25d9\",\"\\u25d9\\u25d9\\u25d9\\u25d9\\u25d9\\u25d9\",space,\"\\u25d9\\u25d9\\u25d9\\u25d9\\u25d9\\u25d9\",\"\\u25d9\\u25d9\\u25d9\\u25d9\\u25d9\\u25d9\",space,\"\\u25d9\\u25d9\\u25d9\\u25d9\\u25d9\\u25d9\",space,space,\"\\u25d9\\u25d9\\u25d9\\u25d9\\u25d9\\u25d9\",space,space,\"\\u0904\")\r\n",
        "print(\"\\u0904\",space,space,\"\\u25d9\\u25d9\\u25d9\\u25d9\\u25d9\\u25d9\",space,\"\\u25d9\\u25d9\\u25d9\\u25d9\\u25d9\\u25d9\",space,\"\\u25d9\\u25d9\\u25d9\\u25d9\\u25d9\\u25d9\",space,\"\\u25d9\\u25d9\\u25d9\\u25d9\\u25d9\\u25d9\",space,space,space,\"\\u25d9\\u25d9\\u25d9\\u25d9\\u25d9\\u25d9\",space,\"\\u25d9\\u25d9\\u25d9\\u25d9\\u25d9\\u25d9\",space,\"\\u25d9\\u25d9\\u25d9\\u25d9\\u25d9\\u25d9\",space,\"\\u25d9\\u25d9\\u25d9\\u25d9\\u25d9\\u25d9\",space,space,\"\\u25d9\\u25d9\\u25d9\\u25d9\\u25d9\\u25d9\",space,space,\"\\u0904\")\r\n",
        "print(\"\\u0904\",space,space,\"\\u25d9\\u25d9\\u25d9\\u25d9\\u25d9\\u25d9\",space,\"\\u25d9\\u25d9\\u25d9\\u25d9\\u25d9\\u25d9\",space,\"\\u25d9\\u25d9\\u25d9\\u25d9\\u25d9\\u25d9\",space,\"\\u25d9\\u25d9\\u25d9\\u25d9\\u25d9\\u25d9\",space,space,space,\"\\u25d9\\u25d9\\u25d9\\u25d9\\u25d9\\u25d9\",space,\"\\u25d9\\u25d9\\u25d9\\u25d9\\u25d9\\u25d9\",space,\"\\u25d9\\u25d9\\u25d9\\u25d9\\u25d9\\u25d9\",space,\"\\u25d9\\u25d9\\u25d9\\u25d9\\u25d9\\u25d9\",space,space,\"\\u25d9\\u25d9\\u25d9\\u25d9\\u25d9\\u25d9\",space,space,\"\\u0904\")\r\n",
        "print(\"\\u0904\",space,space,\"\\u25d9\\u25d9\\u25d9\\u25d9\\u25d9\\u25d9\",space,\"\\u25d9\\u25d9\\u25d9\\u25d9\\u25d9\\u25d9\",space,\"\\u25d9\\u25d9\\u25d9\\u25d9\\u25d9\\u25d9\",space,\"\\u25d9\\u25d9\\u25d9\\u25d9\\u25d9\\u25d9\",space,space,space,\"\\u25d9\\u25d9\\u25d9\\u25d9\\u25d9\\u25d9\",space,\"\\u25d9\\u25d9\\u25d9\\u25d9\\u25d9\\u25d9\",space,\"\\u25d9\\u25d9\\u25d9\\u25d9\\u25d9\\u25d9\",space,\"\\u25d9\\u25d9\\u25d9\\u25d9\\u25d9\\u25d9\",space,space,\"\\u25d9\\u25d9\\u25d9\\u25d9\\u25d9\\u25d9\",space,space,\"\\u0904\")\r\n",
        "print(\"\\u0904\",space,space,\"\\u25d9\\u25d9\\u25d9\\u25d9\\u25d9\\u25d9\",space,\"\\u25d9\\u25d9\\u25d9\\u25d9\\u25d9\\u25d9\",space,\"\\u25d9\\u25d9\\u25d9\\u25d9\\u25d9\\u25d9\",space,\"\\u25d9\\u25d9\\u25d9\\u25d9\\u25d9\\u25d9\",\"\\u25d9\\u25d9\\u25d9\\u25d9\\u25d9\\u25d9\",\"\\u25d9\\u25d9\\u25d9\\u25d9\\u25d9\\u25d9\",space,\"\\u25d9\\u25d9\\u25d9\\u25d9\\u25d9\\u25d9\",space,\"\\u25d9\\u25d9\\u25d9\\u25d9\\u25d9\\u25d9\",space,\"\\u25d9\\u25d9\\u25d9\\u25d9\\u25d9\\u25d9\",space,\"\\u25d9\\u25d9\\u25d9\\u25d9\\u25d9\\u25d9\",space,space,\"\\u25d9\\u25d9\\u25d9\\u25d9\\u25d9\\u25d9\",space,space,\"\\u0904\")\r\n",
        "print(\"\\u0904\",space,space,\"\\u25d9\\u25d9\\u25d9\\u25d9\\u25d9\\u25d9\",space,\"\\u25d9\\u25d9\\u25d9\\u25d9\\u25d9\\u25d9\",space,\"\\u25d9\\u25d9\\u25d9\\u25d9\\u25d9\\u25d9\",space,\"\\u25d9\\u25d9\\u25d9\\u25d9\\u25d9\\u25d9\",\"\\u25d9\\u25d9\\u25d9\\u25d9\\u25d9\\u25d9\",\"\\u25d9\\u25d9\\u25d9\\u25d9\\u25d9\\u25d9\",space,\"\\u25d9\\u25d9\\u25d9\\u25d9\\u25d9\\u25d9\",space,\"\\u25d9\\u25d9\\u25d9\\u25d9\\u25d9\\u25d9\",space,\"\\u25d9\\u25d9\\u25d9\\u25d9\\u25d9\\u25d9\",space,\"\\u25d9\\u25d9\\u25d9\\u25d9\\u25d9\\u25d9\",space,space,\"\\u25d9\\u25d9\\u25d9\\u25d9\\u25d9\\u25d9\",space,space,\"\\u0904\")\r\n",
        "print(\"\\u0904\",space,space,\"\\u25d9\\u25d9\\u25d9\\u25d9\\u25d9\\u25d9\",space,\"\\u25d9\\u25d9\\u25d9\\u25d9\\u25d9\\u25d9\",space,\"\\u25d9\\u25d9\\u25d9\\u25d9\\u25d9\\u25d9\",space,\"\\u25d9\\u25d9\\u25d9\\u25d9\\u25d9\\u25d9\",\"\\u25d9\\u25d9\\u25d9\\u25d9\\u25d9\\u25d9\",\"\\u25d9\\u25d9\\u25d9\\u25d9\\u25d9\\u25d9\",space,\"\\u25d9\\u25d9\\u25d9\\u25d9\\u25d9\\u25d9\",space,\"\\u25d9\\u25d9\\u25d9\\u25d9\\u25d9\\u25d9\",space,\"\\u25d9\\u25d9\\u25d9\\u25d9\\u25d9\\u25d9\",space,\"\\u25d9\\u25d9\\u25d9\\u25d9\\u25d9\\u25d9\",space,space,\"\\u25d9\\u25d9\\u25d9\\u25d9\\u25d9\\u25d9\",space,space,\"\\u0904\")\r\n",
        "print(\"\\u0904\",space,space,\"\\u25d9\\u25d9\\u25d9\\u25d9\\u25d9\\u25d9\",space,space,space,\"\\u25d9\\u25d9\\u25d9\\u25d9\\u25d9\\u25d9\",space,\"\\u25d9\\u25d9\\u25d9\\u25d9\\u25d9\\u25d9\",space,space,space,\"\\u25d9\\u25d9\\u25d9\\u25d9\\u25d9\\u25d9\",space,space,space,\"\\u25d9\\u25d9\\u25d9\\u25d9\\u25d9\\u25d9\",space,\"\\u25d9\\u25d9\\u25d9\\u25d9\\u25d9\\u25d9\",space,space,\"\\u25d9\\u25d9\\u25d9\\u25d9\\u25d9\\u25d9\",space,space,\"\\u0904\")\r\n",
        "print(\"\\u0904\",space,space,\"\\u25d9\\u25d9\\u25d9\\u25d9\\u25d9\\u25d9\",space,space,space,\"\\u25d9\\u25d9\\u25d9\\u25d9\\u25d9\\u25d9\",space,\"\\u25d9\\u25d9\\u25d9\\u25d9\\u25d9\\u25d9\",space,space,space,\"\\u25d9\\u25d9\\u25d9\\u25d9\\u25d9\\u25d9\",space,space,space,\"\\u25d9\\u25d9\\u25d9\\u25d9\\u25d9\\u25d9\",space,\"\\u25d9\\u25d9\\u25d9\\u25d9\\u25d9\\u25d9\",space,space,\"\\u25d9\\u25d9\\u25d9\\u25d9\\u25d9\\u25d9\",space,space,\"\\u0904\")\r\n",
        "print(\"\\u0904\",space,space,\"\\u25d9\\u25d9\\u25d9\\u25d9\\u25d9\\u25d9\",space,space,space,\"\\u25d9\\u25d9\\u25d9\\u25d9\\u25d9\\u25d9\",space,\"\\u25d9\\u25d9\\u25d9\\u25d9\\u25d9\\u25d9\",space,space,space,\"\\u25d9\\u25d9\\u25d9\\u25d9\\u25d9\\u25d9\",space,space,space,\"\\u25d9\\u25d9\\u25d9\\u25d9\\u25d9\\u25d9\",space,\"\\u25d9\\u25d9\\u25d9\\u25d9\\u25d9\\u25d9\",space,space,\"\\u25d9\\u25d9\\u25d9\\u25d9\\u25d9\\u25d9\",space,space,\"\\u0904\")\r\n",
        "print(\"\\u0904\",space,space,\"\\u25d9\\u25d9\\u25d9\\u25d9\\u25d9\\u25d9\",space,space,space,\"\\u25d9\\u25d9\\u25d9\\u25d9\\u25d9\\u25d9\",space,\"\\u25d9\\u25d9\\u25d9\\u25d9\\u25d9\\u25d9\",space,space,space,\"\\u25d9\\u25d9\\u25d9\\u25d9\\u25d9\\u25d9\",space,space,space,\"\\u25d9\\u25d9\\u25d9\\u25d9\\u25d9\\u25d9\",space,\"\\u25d9\\u25d9\\u25d9\\u25d9\\u25d9\\u25d9\",space,space,\"\\u25d9\\u25d9\\u25d9\\u25d9\\u25d9\\u25d9\",space,space,\"\\u0904\")\r\n",
        "print(\"\\u0904\",space,space,\"\\u25d9\\u25d9\\u25d9\\u25d9\\u25d9\\u25d9\",space,space,space,\"\\u25d9\\u25d9\\u25d9\\u25d9\\u25d9\\u25d9\",space,\"\\u25d9\\u25d9\\u25d9\\u25d9\\u25d9\\u25d9\",space,space,space,\"\\u25d9\\u25d9\\u25d9\\u25d9\\u25d9\\u25d9\",space,space,space,\"\\u25d9\\u25d9\\u25d9\\u25d9\\u25d9\\u25d9\",space,\"\\u25d9\\u25d9\\u25d9\\u25d9\\u25d9\\u25d9\",space,space,\"\\u25d9\\u25d9\\u25d9\\u25d9\\u25d9\\u25d9\",space,space,\"\\u0904\")\r\n",
        "print(\"\\u0904\",space,space,\"\\u25d9\\u25d9\\u25d9\\u25d9\\u25d9\\u25d9\",space,space,space,\"\\u25d9\\u25d9\\u25d9\\u25d9\\u25d9\\u25d9\",space,\"\\u25d9\\u25d9\\u25d9\\u25d9\\u25d9\\u25d9\",space,space,space,\"\\u25d9\\u25d9\\u25d9\\u25d9\\u25d9\\u25d9\",space,space,space,\"\\u25d9\\u25d9\\u25d9\\u25d9\\u25d9\\u25d9\",space,\"\\u25d9\\u25d9\\u25d9\\u25d9\\u25d9\\u25d9\",space,space,\"\\u25d9\\u25d9\\u25d9\\u25d9\\u25d9\\u25d9\",space,space,\"\\u0904\")\r\n",
        "print(\"\\u0904\",space,space,\"\\u25d9\\u25d9\\u25d9\\u25d9\\u25d9\\u25d9\",space,space,space,\"\\u25d9\\u25d9\\u25d9\\u25d9\\u25d9\\u25d9\",space,\"\\u25d9\\u25d9\\u25d9\\u25d9\\u25d9\\u25d9\",\"\\u25d9\\u25d9\\u25d9\\u25d9\\u25d9\\u25d9\",\"\\u25d9\\u25d9\\u25d9\\u25d9\\u25d9\\u25d9\",space,\"\\u25d9\\u25d9\\u25d9\\u25d9\\u25d9\\u25d9\",space,space,space,\"\\u25d9\\u25d9\\u25d9\\u25d9\\u25d9\\u25d9\",space,\"\\u25d9\\u25d9\\u25d9\\u25d9\\u25d9\\u25d9\",\"\\u25d9\\u25d9\\u25d9\\u25d9\\u25d9\\u25d9\",\"\\u25d9\\u25d9\\u25d9\\u25d9\\u25d9\\u25d9\",\"\\u25d9\\u25d9\\u25d9\\u25d9\\u25d9\\u25d9\",space,space,\"\\u0904\")\r\n",
        "print(\"\\u0904\",space,space,\"\\u25d9\\u25d9\\u25d9\\u25d9\\u25d9\\u25d9\",space,space,space,\"\\u25d9\\u25d9\\u25d9\\u25d9\\u25d9\\u25d9\",space,\"\\u25d9\\u25d9\\u25d9\\u25d9\\u25d9\\u25d9\",\"\\u25d9\\u25d9\\u25d9\\u25d9\\u25d9\\u25d9\",\"\\u25d9\\u25d9\\u25d9\\u25d9\\u25d9\\u25d9\",space,\"\\u25d9\\u25d9\\u25d9\\u25d9\\u25d9\\u25d9\",space,space,space,\"\\u25d9\\u25d9\\u25d9\\u25d9\\u25d9\\u25d9\",space,\"\\u25d9\\u25d9\\u25d9\\u25d9\\u25d9\\u25d9\",\"\\u25d9\\u25d9\\u25d9\\u25d9\\u25d9\\u25d9\",\"\\u25d9\\u25d9\\u25d9\\u25d9\\u25d9\\u25d9\",\"\\u25d9\\u25d9\\u25d9\\u25d9\\u25d9\\u25d9\",space,space,\"\\u0904\")\r\n",
        "print(\"\\u0904\",space,space,\"\\u25d9\\u25d9\\u25d9\\u25d9\\u25d9\\u25d9\",space,space,space,\"\\u25d9\\u25d9\\u25d9\\u25d9\\u25d9\\u25d9\",space,\"\\u25d9\\u25d9\\u25d9\\u25d9\\u25d9\\u25d9\",\"\\u25d9\\u25d9\\u25d9\\u25d9\\u25d9\\u25d9\",\"\\u25d9\\u25d9\\u25d9\\u25d9\\u25d9\\u25d9\",space,\"\\u25d9\\u25d9\\u25d9\\u25d9\\u25d9\\u25d9\",space,space,space,\"\\u25d9\\u25d9\\u25d9\\u25d9\\u25d9\\u25d9\",space,\"\\u25d9\\u25d9\\u25d9\\u25d9\\u25d9\\u25d9\",\"\\u25d9\\u25d9\\u25d9\\u25d9\\u25d9\\u25d9\",\"\\u25d9\\u25d9\\u25d9\\u25d9\\u25d9\\u25d9\",\"\\u25d9\\u25d9\\u25d9\\u25d9\\u25d9\\u25d9\",space,space,\"\\u0904\")\r\n",
        "print(\"\\u0904\",space,space,space,space,space,space,space,space,space,space,space,space,space,space,space,space,space,space,space,space,space,space,space,space,\"\\u0904\")\r\n",
        "print(\"\\u0904\",space,space,space,space,space,space,space,space,space,space,space,space,space,space,space,space,space,space,space,space,space,space,space,space,\"\\u0904\")\r\n",
        "print(\"\\u0904\",space,space,space,space,space,space,space,space,space,space,space,space,space,space,space,space,space,space,space,space,space,space,space,space,\"\\u0904\")\r\n",
        "print(\"\\u0904\",space,space,space,space,space,space,space,space,space,space,space,space,space,space,space,space,space,space,space,space,space,space,space,space,\"\\u0904\")\r\n",
        "print(\"\\u0904\",space,space,space,space,space,space,space,space,space,space,space,space,space,space,space,space,space,space,space,space,space,space,space,space,\"\\u0904\")\r\n",
        "print(\"\\u090b\\u090b\\u090b\\u090b\\u090b\\u090b\\u090b\\u090b\\u090b\\u090b\\u090b\\u090b\\u090b\\u090b\\u090b\\u090b\\u090b\\u090b\\u090b\\u090b\\u090b\\u090b\\u090b\\u090b\\u090b\\u090b\\u090b\\u090b\\u090b\\u090b\\u090b\\u090b\\u090b\\u090b\\u090b\\u090b\\u090b\\u090b\\u090b\\u090b\\u090b\\u090b\\u090b\\u090b\\u090b\\u090b\\u090b\\u090b\\u090b\\u090b\\u090b\\u090b\\u090b\\u090b\\u090b\\u090b\\u090b\\u090b\\u090b\\u090b\\u090b\\u090b\\u090b\\u090b\\u090b\\u090b\\u090b\\u090b\\u090b\\u090b\\u090b\\u090b\\u090b\\u090b\\u090b\\u090b\\u090b\\u090b\\u090b\\u090b\\u090b\\u090b\\u090b\\u090b\\u090b\\u090b\\u090b\\u090b\\u090b\\u090b\\u090b\\u090b\\u090b\\u090b\\u090b\\u090b\\u090b\\u090b\\u090b\\u090b\\u090b\\u090b\\u090b\\u090b\")"
      ],
      "execution_count": 47,
      "outputs": [
        {
          "output_type": "stream",
          "text": [
            "GUILLERMO AXEL SANCHEZ OJEDA\n",
            "ऋऋऋऋऋऋऋऋऋऋऋऋऋऋऋऋऋऋऋऋऋऋऋऋऋऋऋऋऋऋऋऋऋऋऋऋऋऋऋऋऋऋऋऋऋऋऋऋऋऋऋऋऋऋऋऋऋऋऋऋऋऋऋऋऋऋऋऋऋऋऋऋऋऋऋऋऋऋऋऋऋऋऋऋऋऋऋऋऋऋऋऋऋऋऋऋऋऋऋऋऋऋऋऋ\n",
            "ऄ                                                                                                                                                                         ऄ\n",
            "ऄ                                                                                                                                                                         ऄ\n",
            "ऄ                                                                                                                                                                         ऄ\n",
            "ऄ                                                                                                                                                                         ऄ\n",
            "ऄ                                                                                                                                                                         ऄ\n",
            "ऄ               ◙◙◙◙◙◙                      ◙◙◙◙◙◙        ◙◙◙◙◙◙ ◙◙◙◙◙◙ ◙◙◙◙◙◙        ◙◙◙◙◙◙                      ◙◙◙◙◙◙        ◙◙◙◙◙◙ ◙◙◙◙◙◙ ◙◙◙◙◙◙ ◙◙◙◙◙◙               ऄ\n",
            "ऄ               ◙◙◙◙◙◙                      ◙◙◙◙◙◙        ◙◙◙◙◙◙ ◙◙◙◙◙◙ ◙◙◙◙◙◙        ◙◙◙◙◙◙                      ◙◙◙◙◙◙        ◙◙◙◙◙◙ ◙◙◙◙◙◙ ◙◙◙◙◙◙ ◙◙◙◙◙◙               ऄ\n",
            "ऄ               ◙◙◙◙◙◙                      ◙◙◙◙◙◙        ◙◙◙◙◙◙ ◙◙◙◙◙◙ ◙◙◙◙◙◙        ◙◙◙◙◙◙                      ◙◙◙◙◙◙        ◙◙◙◙◙◙ ◙◙◙◙◙◙ ◙◙◙◙◙◙ ◙◙◙◙◙◙               ऄ\n",
            "ऄ               ◙◙◙◙◙◙ ◙◙◙◙◙◙        ◙◙◙◙◙◙ ◙◙◙◙◙◙        ◙◙◙◙◙◙                      ◙◙◙◙◙◙ ◙◙◙◙◙◙        ◙◙◙◙◙◙ ◙◙◙◙◙◙        ◙◙◙◙◙◙               ◙◙◙◙◙◙               ऄ\n",
            "ऄ               ◙◙◙◙◙◙ ◙◙◙◙◙◙        ◙◙◙◙◙◙ ◙◙◙◙◙◙        ◙◙◙◙◙◙                      ◙◙◙◙◙◙ ◙◙◙◙◙◙        ◙◙◙◙◙◙ ◙◙◙◙◙◙        ◙◙◙◙◙◙               ◙◙◙◙◙◙               ऄ\n",
            "ऄ               ◙◙◙◙◙◙ ◙◙◙◙◙◙        ◙◙◙◙◙◙ ◙◙◙◙◙◙        ◙◙◙◙◙◙                      ◙◙◙◙◙◙ ◙◙◙◙◙◙        ◙◙◙◙◙◙ ◙◙◙◙◙◙        ◙◙◙◙◙◙               ◙◙◙◙◙◙               ऄ\n",
            "ऄ               ◙◙◙◙◙◙        ◙◙◙◙◙◙        ◙◙◙◙◙◙        ◙◙◙◙◙◙                      ◙◙◙◙◙◙        ◙◙◙◙◙◙        ◙◙◙◙◙◙        ◙◙◙◙◙◙               ◙◙◙◙◙◙               ऄ\n",
            "ऄ               ◙◙◙◙◙◙        ◙◙◙◙◙◙        ◙◙◙◙◙◙        ◙◙◙◙◙◙                      ◙◙◙◙◙◙        ◙◙◙◙◙◙        ◙◙◙◙◙◙        ◙◙◙◙◙◙               ◙◙◙◙◙◙               ऄ\n",
            "ऄ               ◙◙◙◙◙◙        ◙◙◙◙◙◙        ◙◙◙◙◙◙        ◙◙◙◙◙◙                      ◙◙◙◙◙◙        ◙◙◙◙◙◙        ◙◙◙◙◙◙        ◙◙◙◙◙◙               ◙◙◙◙◙◙               ऄ\n",
            "ऄ               ◙◙◙◙◙◙        ◙◙◙◙◙◙        ◙◙◙◙◙◙        ◙◙◙◙◙◙ ◙◙◙◙◙◙ ◙◙◙◙◙◙        ◙◙◙◙◙◙        ◙◙◙◙◙◙        ◙◙◙◙◙◙        ◙◙◙◙◙◙               ◙◙◙◙◙◙               ऄ\n",
            "ऄ               ◙◙◙◙◙◙        ◙◙◙◙◙◙        ◙◙◙◙◙◙        ◙◙◙◙◙◙ ◙◙◙◙◙◙ ◙◙◙◙◙◙        ◙◙◙◙◙◙        ◙◙◙◙◙◙        ◙◙◙◙◙◙        ◙◙◙◙◙◙               ◙◙◙◙◙◙               ऄ\n",
            "ऄ               ◙◙◙◙◙◙        ◙◙◙◙◙◙        ◙◙◙◙◙◙        ◙◙◙◙◙◙ ◙◙◙◙◙◙ ◙◙◙◙◙◙        ◙◙◙◙◙◙        ◙◙◙◙◙◙        ◙◙◙◙◙◙        ◙◙◙◙◙◙               ◙◙◙◙◙◙               ऄ\n",
            "ऄ               ◙◙◙◙◙◙                      ◙◙◙◙◙◙        ◙◙◙◙◙◙                      ◙◙◙◙◙◙                      ◙◙◙◙◙◙        ◙◙◙◙◙◙               ◙◙◙◙◙◙               ऄ\n",
            "ऄ               ◙◙◙◙◙◙                      ◙◙◙◙◙◙        ◙◙◙◙◙◙                      ◙◙◙◙◙◙                      ◙◙◙◙◙◙        ◙◙◙◙◙◙               ◙◙◙◙◙◙               ऄ\n",
            "ऄ               ◙◙◙◙◙◙                      ◙◙◙◙◙◙        ◙◙◙◙◙◙                      ◙◙◙◙◙◙                      ◙◙◙◙◙◙        ◙◙◙◙◙◙               ◙◙◙◙◙◙               ऄ\n",
            "ऄ               ◙◙◙◙◙◙                      ◙◙◙◙◙◙        ◙◙◙◙◙◙                      ◙◙◙◙◙◙                      ◙◙◙◙◙◙        ◙◙◙◙◙◙               ◙◙◙◙◙◙               ऄ\n",
            "ऄ               ◙◙◙◙◙◙                      ◙◙◙◙◙◙        ◙◙◙◙◙◙                      ◙◙◙◙◙◙                      ◙◙◙◙◙◙        ◙◙◙◙◙◙               ◙◙◙◙◙◙               ऄ\n",
            "ऄ               ◙◙◙◙◙◙                      ◙◙◙◙◙◙        ◙◙◙◙◙◙                      ◙◙◙◙◙◙                      ◙◙◙◙◙◙        ◙◙◙◙◙◙               ◙◙◙◙◙◙               ऄ\n",
            "ऄ               ◙◙◙◙◙◙                      ◙◙◙◙◙◙        ◙◙◙◙◙◙ ◙◙◙◙◙◙ ◙◙◙◙◙◙        ◙◙◙◙◙◙                      ◙◙◙◙◙◙        ◙◙◙◙◙◙ ◙◙◙◙◙◙ ◙◙◙◙◙◙ ◙◙◙◙◙◙               ऄ\n",
            "ऄ               ◙◙◙◙◙◙                      ◙◙◙◙◙◙        ◙◙◙◙◙◙ ◙◙◙◙◙◙ ◙◙◙◙◙◙        ◙◙◙◙◙◙                      ◙◙◙◙◙◙        ◙◙◙◙◙◙ ◙◙◙◙◙◙ ◙◙◙◙◙◙ ◙◙◙◙◙◙               ऄ\n",
            "ऄ               ◙◙◙◙◙◙                      ◙◙◙◙◙◙        ◙◙◙◙◙◙ ◙◙◙◙◙◙ ◙◙◙◙◙◙        ◙◙◙◙◙◙                      ◙◙◙◙◙◙        ◙◙◙◙◙◙ ◙◙◙◙◙◙ ◙◙◙◙◙◙ ◙◙◙◙◙◙               ऄ\n",
            "ऄ                                                                                                                                                                         ऄ\n",
            "ऄ                                                                                                                                                                         ऄ\n",
            "ऄ                                                                                                                                                                         ऄ\n",
            "ऄ                                                                                                                                                                         ऄ\n",
            "ऄ                                                                                                                                                                         ऄ\n",
            "ऋऋऋऋऋऋऋऋऋऋऋऋऋऋऋऋऋऋऋऋऋऋऋऋऋऋऋऋऋऋऋऋऋऋऋऋऋऋऋऋऋऋऋऋऋऋऋऋऋऋऋऋऋऋऋऋऋऋऋऋऋऋऋऋऋऋऋऋऋऋऋऋऋऋऋऋऋऋऋऋऋऋऋऋऋऋऋऋऋऋऋऋऋऋऋऋऋऋऋऋऋऋऋऋ\n"
          ],
          "name": "stdout"
        }
      ]
    }
  ]
}