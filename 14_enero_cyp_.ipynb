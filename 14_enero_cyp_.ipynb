{
  "nbformat": 4,
  "nbformat_minor": 0,
  "metadata": {
    "colab": {
      "name": "14_enero_cyp_.ipynb",
      "provenance": [],
      "authorship_tag": "ABX9TyOpwneQv3UEMnD2WDMJNDyo",
      "include_colab_link": true
    },
    "kernelspec": {
      "name": "python3",
      "display_name": "Python 3"
    }
  },
  "cells": [
    {
      "cell_type": "markdown",
      "metadata": {
        "id": "view-in-github",
        "colab_type": "text"
      },
      "source": [
        "<a href=\"https://colab.research.google.com/github/GuillermoAxelSanchez/cyp_2021/blob/main/14_enero_cyp_.ipynb\" target=\"_parent\"><img src=\"https://colab.research.google.com/assets/colab-badge.svg\" alt=\"Open In Colab\"/></a>"
      ]
    },
    {
      "cell_type": "code",
      "metadata": {
        "id": "v5TkuT1S4Syx"
      },
      "source": [
        ""
      ],
      "execution_count": null,
      "outputs": []
    },
    {
      "cell_type": "markdown",
      "metadata": {
        "id": "X3Zs9IfJ5Gps"
      },
      "source": [
        "# PALABRAS RESERVADAS DE PYTHON 3\r\n",
        "1. False\r\n",
        "1. None\r\n",
        "1. True\r\n",
        "1. and\r\n",
        "1. as\r\n",
        "1. assert\r\n",
        "1. break\r\n",
        "1. class\r\n",
        "1. continue\r\n",
        "1. def\r\n",
        "1. del\r\n",
        "1. elif\r\n",
        "1. else\r\n",
        "1. except\r\n",
        "1. finally\r\n",
        "1. for\r\n",
        "1. from\r\n",
        "1. global\r\n",
        "1. if\r\n",
        "1. import\r\n",
        "1. in\r\n",
        "1. is\r\n",
        "1. lambda\r\n",
        "1. nonlocal\r\n",
        "1. not\r\n",
        "1. or\r\n",
        "1. pass\r\n",
        "1. raise\r\n",
        "1. return\r\n",
        "1. try\r\n",
        "1. while\r\n",
        "1. with\r\n",
        "1. yield\r\n",
        "\r\n",
        "## Variable\r\n",
        "Es un espacio de memoria de la computadora para almacenar valores que cambian a lo largo de la ejecución del programa. Este espacio de memoria está referenciado por un identificadr, el cual tiene ciertas reglas de nombrado.\r\n",
        "\r\n",
        "- No puede iniciar con número\r\n",
        "- No debe sser igual a alguna de las palabras reservadas.\r\n",
        "- Puede iniciar con guión bajo\r\n",
        "- Evitar nombres de variables largos.\r\n",
        "- Evitar muy cortos, ejemplo: x, y, i\r\n",
        "- Usar notación snake_case"
      ]
    },
    {
      "cell_type": "code",
      "metadata": {
        "colab": {
          "base_uri": "https://localhost:8080/"
        },
        "id": "Ej5l26dM5Ynj",
        "outputId": "88dfc823-cf8f-4b20-9914-2129e338ade4"
      },
      "source": [
        "import keyword\r\n",
        "pr = keyword.kwlist\r\n",
        "print(len(pr))\r\n",
        "\r\n",
        "for palabra in pr:\r\n",
        "  print(\"1.\",palabra)"
      ],
      "execution_count": 5,
      "outputs": [
        {
          "output_type": "stream",
          "text": [
            "33\n",
            "1. False\n",
            "1. None\n",
            "1. True\n",
            "1. and\n",
            "1. as\n",
            "1. assert\n",
            "1. break\n",
            "1. class\n",
            "1. continue\n",
            "1. def\n",
            "1. del\n",
            "1. elif\n",
            "1. else\n",
            "1. except\n",
            "1. finally\n",
            "1. for\n",
            "1. from\n",
            "1. global\n",
            "1. if\n",
            "1. import\n",
            "1. in\n",
            "1. is\n",
            "1. lambda\n",
            "1. nonlocal\n",
            "1. not\n",
            "1. or\n",
            "1. pass\n",
            "1. raise\n",
            "1. return\n",
            "1. try\n",
            "1. while\n",
            "1. with\n",
            "1. yield\n"
          ],
          "name": "stdout"
        }
      ]
    },
    {
      "cell_type": "code",
      "metadata": {
        "colab": {
          "base_uri": "https://localhost:8080/"
        },
        "id": "Ecm9thN07uwq",
        "outputId": "6b1321e7-b24c-4e53-8bc5-24a1e080cfee"
      },
      "source": [
        "_2edad = 12\r\n",
        "print(_2edad)\r\n",
        "\r\n",
        "\r\n",
        "\"\"\"\r\n",
        "No se puede usar una palabra reservada como identificador de una variable\r\n",
        "for = 12\r\n",
        "print(for)\r\n",
        "\"\"\"\r\n",
        "print(\"\")\r\n",
        "\r\n"
      ],
      "execution_count": 10,
      "outputs": [
        {
          "output_type": "stream",
          "text": [
            "12\n",
            "\n"
          ],
          "name": "stdout"
        }
      ]
    },
    {
      "cell_type": "code",
      "metadata": {
        "id": "gmW57ew-9Gdq"
      },
      "source": [
        "\"\"\"\r\n",
        "La notación snake-case consta de formar el identificador de variable separando \r\n",
        "las palabras del mismo con un guión bajo.\r\n",
        "\r\n",
        "Se recomienda que los idenitificadores se escriban en minúscula para las \r\n",
        "variables y en mayúscula para las constantes.\r\n",
        "\r\n",
        "Es decir, si tenemos una variable para los días de la semana, se escribiría así:\r\n",
        "\r\n",
        "dias_de_la_semana=7\r\n",
        "dias_mes=31\r\n",
        "\r\n",
        "\"\"\""
      ],
      "execution_count": null,
      "outputs": []
    },
    {
      "cell_type": "markdown",
      "metadata": {
        "id": "Q6HyMsla97Dq"
      },
      "source": [
        "# Tipos de datos\r\n",
        "- Numéricos\r\n",
        "  - int (1, 2, 3, 4567, etc. ) 4bytes\r\n",
        "  - float ( 1.14, 3.2415. 1.0 ) 4bytes\r\n",
        "  - long (>2**32) 8bytes\r\n",
        "  - complex (3 + 2j) Raíces negativas\r\n",
        "\r\n",
        "- Booleano: True o False\r\n",
        "- String son cadenas de carácteres (\"cad\", 'cad', \"\"\"cad\"\"\")\r\n",
        "- Listas ( [1,2,3,4,5] , [a,b,1,2,3] )\r\n",
        "- Tuplas ( (edad,23) )\r\n",
        "- Conjuntos\r\n",
        "- Diccionarios ( {\"nombre\":\"Juan\"} )\r\n"
      ]
    },
    {
      "cell_type": "markdown",
      "metadata": {
        "id": "Ij8scH8XECzA"
      },
      "source": [
        "# Tipo de dato string\r\n",
        "\r\n",
        "Este tipo de dato permire lmacenar cadenas de carácteres. Ejemplo: \r\n",
        "```\r\n",
        "nombre = 'Jesús'\r\n",
        "lugar_nacimiento = \"México D.F., Tacuba\"\r\n",
        "frase_favorita=\"\"\"\r\n",
        "El conocimiento me persigue, \r\n",
        "pero...\r\n",
        "yo soy más rápido!!!\r\n",
        ":)\r\n",
        "\"\"\"\r\n",
        "```"
      ]
    },
    {
      "cell_type": "code",
      "metadata": {
        "colab": {
          "base_uri": "https://localhost:8080/"
        },
        "id": "_Yel-aPkFEkW",
        "outputId": "ed09e2e7-c50e-469f-9bad-ceca2af500eb"
      },
      "source": [
        "nombre = 'Jesús'\r\n",
        "lugar_nacimiento = \"México D.F., Tacuba\"\r\n",
        "frase_favorita=\"\"\"\r\n",
        "El conocimiento me persigue, \r\n",
        "pero...\r\n",
        "yo soy más rápido!!!\r\n",
        ":)\r\n",
        "\"\"\"\r\n",
        "\r\n",
        "print(nombre)\r\n",
        "print(lugar_nacimiento)\r\n",
        "print(frase_favorita)"
      ],
      "execution_count": 13,
      "outputs": [
        {
          "output_type": "stream",
          "text": [
            "Jesús\n",
            "México D.F., Tacuba\n",
            "\n",
            "El conocimiento me persigue, \n",
            "pero...\n",
            "yo soy más rápido!!!\n",
            ":)\n",
            "\n"
          ],
          "name": "stdout"
        }
      ]
    },
    {
      "cell_type": "markdown",
      "metadata": {
        "id": "v8ZUizxHFidD"
      },
      "source": [
        "# Strings como arreglos\r\n",
        "Un string en python es almacenado como el tipo de dato  (estructura de datos) arreglo\r\n",
        "\r\n",
        "por ejemplo la declaraciónn: \r\n",
        "```\r\n",
        "nombre = 'Jesús' \r\n",
        "```\r\n",
        "El elemento 'J' es almacenado en un arreglo en la posición 0. \r\n",
        "La 'e' em la posición 2 y así.\r\n",
        "\r\n",
        "### Selector\r\n",
        "La notación para seleccionar un elemento del arreglo es:\r\n",
        "```\r\n",
        "[n]\r\n",
        "```\r\n",
        "Donde el valor interno debe ser un valor numérico entero."
      ]
    },
    {
      "cell_type": "code",
      "metadata": {
        "colab": {
          "base_uri": "https://localhost:8080/"
        },
        "id": "5s35cevWGMGO",
        "outputId": "f8d02e25-5dfb-45cc-962d-55c5d8790505"
      },
      "source": [
        "nombre='Jesús'\r\n",
        "print(nombre)\r\n",
        "print(nombre[0])\r\n",
        "print(nombre[3])\r\n",
        "\r\n"
      ],
      "execution_count": 15,
      "outputs": [
        {
          "output_type": "stream",
          "text": [
            "Jesús\n",
            "J\n",
            "ú\n"
          ],
          "name": "stdout"
        }
      ]
    },
    {
      "cell_type": "markdown",
      "metadata": {
        "id": "6GTsirWVHRxB"
      },
      "source": [
        "# Iterar sobre un String\r\n",
        "\r\n",
        "Se puede iterar sobre un string con un for de la forma siguiente.\r\n",
        "\r\n",
        "```\r\n",
        "for letra in range(len(nombre))\r\n",
        "  print(letra)\r\n",
        "```\r\n"
      ]
    },
    {
      "cell_type": "code",
      "metadata": {
        "colab": {
          "base_uri": "https://localhost:8080/"
        },
        "id": "rhvEv2OyIYSW",
        "outputId": "27ecdfe1-c587-4717-82ab-ba8366d8c46d"
      },
      "source": [
        "for indice in range(len(nombre)): #0, 1, 2, 3, 4\r\n",
        "  print(indice, end=\" \")\r\n",
        "  print(nombre[indice])"
      ],
      "execution_count": 16,
      "outputs": [
        {
          "output_type": "stream",
          "text": [
            "0 J\n",
            "1 e\n",
            "2 s\n",
            "3 ú\n",
            "4 s\n"
          ],
          "name": "stdout"
        }
      ]
    },
    {
      "cell_type": "markdown",
      "metadata": {
        "id": "mjdas-HFJ8wV"
      },
      "source": [
        "#Función range(inicio, stop, incremento)\r\n",
        "- El inicio es opcional y por defecto tiene el valor 0\r\n",
        "- El incremento también es opcional y por defecto es 1."
      ]
    },
    {
      "cell_type": "code",
      "metadata": {
        "colab": {
          "base_uri": "https://localhost:8080/"
        },
        "id": "g1xamfDSJzWN",
        "outputId": "cbffa1a4-616e-4f66-abe4-4167ef1a9cf1"
      },
      "source": [
        "for indice in range(4, -1 , -1):\r\n",
        "  print(indice, end=\" \")\r\n",
        "  print(nombre[indice])\r\n"
      ],
      "execution_count": 26,
      "outputs": [
        {
          "output_type": "stream",
          "text": [
            "4 s\n",
            "3 ú\n",
            "2 s\n",
            "1 e\n",
            "0 J\n"
          ],
          "name": "stdout"
        }
      ]
    },
    {
      "cell_type": "markdown",
      "metadata": {
        "id": "rjvfQQKSL73j"
      },
      "source": [
        "# Strings e indexado negativo\r\n",
        "En python 3 se agrega una nueva característica a los areglos de las cadenas de carácteres, esta consta de la capacidad de indexar de forma negativa. \r\n",
        "\r\n",
        "La lógica es la siguiente.\r\n",
        "\r\n",
        "El último elemento de le considera como índice (ALTERNATIVO) -1, con lo cual se podría referenciar el final de la cadena sin la necesidad de saber el tamaño de la misma.\r\n",
        "\r\n",
        "```\r\n",
        "nombre = \"Guillermo Axel Sánchez Ojeda\"\r\n",
        "\r\n",
        "índice normal 1 2 3 4 ... n \r\n",
        "\r\n",
        "índice alternativo -n... -4, -3, -2 -1\r\n",
        "```"
      ]
    },
    {
      "cell_type": "code",
      "metadata": {
        "colab": {
          "base_uri": "https://localhost:8080/"
        },
        "id": "ybxu1E2aMjGE",
        "outputId": "3a28dbb5-3fc4-467b-ff3c-b7dc5cf216c2"
      },
      "source": [
        "nombre2=\"Guillermo Axel Sámchez Ojeda\"\r\n",
        "print(nombre[-1])\r\n",
        "\r\n",
        "for i in range((len(nombre))-1,-1 ,-1):\r\n",
        "  print(nombre2[i])"
      ],
      "execution_count": 38,
      "outputs": [
        {
          "output_type": "stream",
          "text": [
            "a\n",
            "a\n",
            "d\n",
            "e\n",
            "j\n",
            "O\n",
            " \n",
            "z\n",
            "e\n",
            "h\n",
            "c\n",
            "m\n",
            "á\n",
            "S\n",
            " \n",
            "l\n",
            "e\n",
            "x\n",
            "A\n",
            " \n",
            "o\n",
            "m\n",
            "r\n",
            "e\n",
            "l\n",
            "l\n",
            "i\n",
            "u\n",
            "G\n"
          ],
          "name": "stdout"
        }
      ]
    },
    {
      "cell_type": "markdown",
      "metadata": {
        "id": "6zTSG-L2P2Td"
      },
      "source": [
        "# Slicing de cadenas de carácteres.\r\n",
        "\r\n",
        "Esta característica permite sacar secciones de una cadena con la siguiente sintaxis:\r\n",
        "```\r\n",
        "[inicio : stop : incremento]\r\n",
        "```\r\n",
        "Dode inicio e incremento son opcinales y también soporta el indexado alternativo.\r\n"
      ]
    },
    {
      "cell_type": "code",
      "metadata": {
        "colab": {
          "base_uri": "https://localhost:8080/"
        },
        "id": "Xf58gH_xQaDD",
        "outputId": "1e17af87-aee8-4f13-d0ba-beaf7bae9a78"
      },
      "source": [
        "facultad = \"Facultad de Estudios Superiores Aragón (La Mejor) \"\r\n",
        "print(facultad)\r\n",
        "\r\n",
        "for i in range(12,20,1):\r\n",
        "  print(facultad[i], end=\"\")\r\n",
        "\r\n",
        "#hacer esto mismo con la característica Slicing se logra así:\r\n",
        "print(\"\\nCon Slicing\")\r\n",
        "print(facultad[12:20:1])\r\n",
        "print(facultad[9:11:1])\r\n",
        "\r\n",
        "#Sacar (La Mejor) con indexado alternativo y slicing\r\n",
        "print(facultad[-11:-1:1])"
      ],
      "execution_count": 52,
      "outputs": [
        {
          "output_type": "stream",
          "text": [
            "Facultad de Estudios Superiores Aragón (La Mejor) \n",
            "Estudios\n",
            "Con Slicing\n",
            "Estudios\n",
            "de\n",
            "(La Mejor)\n"
          ],
          "name": "stdout"
        }
      ]
    }
  ]
}