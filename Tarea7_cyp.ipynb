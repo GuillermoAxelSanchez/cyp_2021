{
  "nbformat": 4,
  "nbformat_minor": 0,
  "metadata": {
    "colab": {
      "name": "Tarea7_cyp.ipynb",
      "provenance": [],
      "collapsed_sections": [],
      "authorship_tag": "ABX9TyPKbgXRo51X2VKkUfTkWCaO",
      "include_colab_link": true
    },
    "kernelspec": {
      "name": "python3",
      "display_name": "Python 3"
    }
  },
  "cells": [
    {
      "cell_type": "markdown",
      "metadata": {
        "id": "view-in-github",
        "colab_type": "text"
      },
      "source": [
        "<a href=\"https://colab.research.google.com/github/GuillermoAxelSanchez/cyp_2021/blob/main/Tarea7_cyp.ipynb\" target=\"_parent\"><img src=\"https://colab.research.google.com/assets/colab-badge.svg\" alt=\"Open In Colab\"/></a>"
      ]
    },
    {
      "cell_type": "code",
      "metadata": {
        "colab": {
          "base_uri": "https://localhost:8080/"
        },
        "id": "-5opCE-syHZl",
        "outputId": "030cba30-0846-446c-a4c9-298570ba5ea9"
      },
      "source": [
        "#Problema 4.1\r\n",
        "\"\"\"\r\n",
        "El programa recibe el nombre de los paises de tres zonas y los une en un solo arreglo pero los ordena alfabéticamente\r\n",
        "\"\"\"\r\n",
        "tps=0\r\n",
        "tpn=0\r\n",
        "tpc=0\r\n",
        "\r\n",
        "tps=int(input(\"Digite el numero de paises del sur, menor o igual a 30: \"))\r\n",
        "tpc=int(input(\"Digite el numero de paises del centro, menor o igual a 30: \"))\r\n",
        "tpn=int(input(\"Digite el numero de paises del norte, menor o igual a 30: \"))\r\n",
        "tpa=tps+tpc+tpn\r\n",
        "\r\n",
        "sur=[\"\" for x in range(tps)]\r\n",
        "centro=[\"\" for x in range(tpc)]\r\n",
        "norte=[\"\" for x in range(tpn)]\r\n",
        "america=[\"\" for x in range(tpa)]\r\n",
        "\r\n",
        "if ((tps>=1 and tps<=30) and (tpn>=1 and tpn<=30) and (tpc>=1 and tpc<=30)):\r\n",
        "  for i in range(tps):\r\n",
        "    sur[i]=input(f\"Escriba el nombre del país {i+1} del sur \")\r\n",
        "  for i in range(tpc):\r\n",
        "    centro[i]=input(f\"Escriba el nombre del país {i+1} del centro \")\r\n",
        "  for i in range(tpn):\r\n",
        "    norte[i]=input(f\"Escriba el nombre del país {i+1} del norte \")\r\n",
        "\r\n",
        "  america=sur+centro+norte\r\n",
        "  for i in range(tps):\r\n",
        "    for j in range(tps-1):\r\n",
        "      if sur[j]>sur[j+1]:\r\n",
        "        aux=sur[j]\r\n",
        "        sur[j]=sur[j+1]\r\n",
        "        sur[j+1]=aux\r\n",
        "\r\n",
        "  for i in range(tpc):\r\n",
        "    for j in range(tpc-1):\r\n",
        "      if centro[j]>centro[j+1]:\r\n",
        "        aux=centro[j]\r\n",
        "        centro[j]=centro[j+1]\r\n",
        "        centro[j+1]=aux\r\n",
        "  \r\n",
        "  for i in range(tpn):\r\n",
        "    for j in range(tpn-1):\r\n",
        "      if norte[j]>norte[j+1]:\r\n",
        "        aux=norte[j]\r\n",
        "        norte[j]=norte[j+1]\r\n",
        "        norte[j+1]=aux\r\n",
        "\r\n",
        "  for i in range(tpa):\r\n",
        "    for j in range(tpa-1):\r\n",
        "      if america[j]>america[j+1]:\r\n",
        "        aux=america[j]\r\n",
        "        america[j]=america[j+1]\r\n",
        "        america[j+1]=aux\r\n",
        "\r\n",
        "  print(f\"\\nSUR {sur}\")\r\n",
        "  print(f\"CENTRO {centro}\")\r\n",
        "  print(f\"NORTE {norte}\")\r\n",
        "  print(f\"\\n AMÉRICA {america}\")\r\n",
        "  \r\n",
        "\r\n",
        "else: \r\n",
        "  print(\"Comprueba el número de paises \")"
      ],
      "execution_count": 33,
      "outputs": [
        {
          "output_type": "stream",
          "text": [
            "Digite el numero de paises del sur, menor o igual a 30: 6\n",
            "Digite el numero de paises del centro, menor o igual a 30: 6\n",
            "Digite el numero de paises del norte, menor o igual a 30: 3\n",
            "Escriba el nombre del país 1 del sur BRASIL\n",
            "Escriba el nombre del país 2 del sur ARGENTINA\n",
            "Escriba el nombre del país 3 del sur PERU\n",
            "Escriba el nombre del país 4 del sur CHILE\n",
            "Escriba el nombre del país 5 del sur BOLIVIA\n",
            "Escriba el nombre del país 6 del sur URUGUAY\n",
            "Escriba el nombre del país 1 del centro COLOMBIA\n",
            "Escriba el nombre del país 2 del centro ECUADOR\n",
            "Escriba el nombre del país 3 del centro CUBA\n",
            "Escriba el nombre del país 4 del centro VENEZUELA\n",
            "Escriba el nombre del país 5 del centro PUERTO RICO\n",
            "Escriba el nombre del país 6 del centro GUATEMALA\n",
            "Escriba el nombre del país 1 del norte ESTADOS UNIDOS\n",
            "Escriba el nombre del país 2 del norte CANADA\n",
            "Escriba el nombre del país 3 del norte MEXICO\n",
            "\n",
            "SUR ['ARGENTINA', 'BOLIVIA', 'BRASIL', 'CHILE', 'PERU', 'URUGUAY']\n",
            "CENTRO ['COLOMBIA', 'CUBA', 'ECUADOR', 'GUATEMALA', 'PUERTO RICO', 'VENEZUELA']\n",
            "NORTE ['CANADA', 'ESTADOS UNIDOS', 'MEXICO']\n",
            "\n",
            " AMÉRICA ['ARGENTINA', 'BOLIVIA', 'BRASIL', 'CANADA', 'CHILE', 'COLOMBIA', 'CUBA', 'ECUADOR', 'ESTADOS UNIDOS', 'GUATEMALA', 'MEXICO', 'PERU', 'PUERTO RICO', 'URUGUAY', 'VENEZUELA']\n"
          ],
          "name": "stdout"
        }
      ]
    },
    {
      "cell_type": "code",
      "metadata": {
        "colab": {
          "base_uri": "https://localhost:8080/"
        },
        "id": "E7eFp7--9FXw",
        "outputId": "fa3fcb01-286b-4b74-fb2e-79d9a4b7c2d4"
      },
      "source": [
        "vf=\"A\"<\"B\"\r\n",
        "print(vf)\r\n",
        "\r\n",
        "#burbuja C++\r\n",
        "\"\"\"\r\n",
        "for (int e=0;e<5;e++){\r\n",
        "    for ( int f=0;e<3;e++){\r\n",
        "       if ( promedio[e]>promedio[e+1]){\r\n",
        "        aux=promedio[e];\r\n",
        "        promedio[e]=promedio[e+1];\r\n",
        "        promedio[e+1]=aux;\r\n",
        "\r\n",
        "        }\r\n",
        "\r\n",
        "\r\n",
        "    }\r\n",
        "\"\"\""
      ],
      "execution_count": 35,
      "outputs": [
        {
          "output_type": "stream",
          "text": [
            "True\n"
          ],
          "name": "stdout"
        }
      ]
    }
  ]
}