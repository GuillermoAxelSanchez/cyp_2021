{
  "nbformat": 4,
  "nbformat_minor": 0,
  "metadata": {
    "colab": {
      "name": "Tarea_4_3_dic_cyp.ipynb",
      "provenance": [],
      "collapsed_sections": [],
      "authorship_tag": "ABX9TyNUP2j75hXFqJCi+macYUDR",
      "include_colab_link": true
    },
    "kernelspec": {
      "name": "python3",
      "display_name": "Python 3"
    }
  },
  "cells": [
    {
      "cell_type": "markdown",
      "metadata": {
        "id": "view-in-github",
        "colab_type": "text"
      },
      "source": [
        "<a href=\"https://colab.research.google.com/github/GuillermoAxelSanchez/cyp_2021/blob/main/Tarea_4_3_dic_cyp.ipynb\" target=\"_parent\"><img src=\"https://colab.research.google.com/assets/colab-badge.svg\" alt=\"Open In Colab\"/></a>"
      ]
    },
    {
      "cell_type": "code",
      "metadata": {
        "colab": {
          "base_uri": "https://localhost:8080/"
        },
        "id": "FKCMa2GB0H1c",
        "outputId": "fa670462-9578-45b3-a4c3-eb0f29cbc260"
      },
      "source": [
        "#programa del ejemplo 2.4 pag 60\n",
        "#Este programa da un aumento al salario de un trabajador del 15% si su sueldo es menor a 1000 y del 12% en caso contrario\n",
        "print(\"Este programa aplica los aumentos a los trabajadores del 15% y 12%\")\n",
        "\n",
        "nombre=input(\"¿Cuál es el nombre del trabajador? \")\n",
        "sal1=float(input (f\"Dijite el salario de {nombre}: \")) \n",
        "if(sal1<1000):\n",
        "  aumento=sal1*0.15\n",
        "  sal2=sal1*1.15\n",
        "  print(f\"El nuevo salario con un aumento del 15%= {round(aumento,2)} es de {round(sal2,2)}\")\n",
        "\n",
        "else:\n",
        "  aumento=sal1*0.12\n",
        "  sal2=sal1*1.12\n",
        "  print(f\"El nuevo salario de {nombre} con un aumento del 12% = {round(aumento,2)} es de {round(sal2,2)}\")\n"
      ],
      "execution_count": 15,
      "outputs": [
        {
          "output_type": "stream",
          "text": [
            "Este programa aplica los aumentos a los trabajadores del 15% y 12%\n",
            "¿Cuál es el nombre del trabajador? Memo\n",
            "Dijite el salario de Memo: 901\n",
            "El nuevo salario con un aumento del 15%= 135.15 es de 1036.15\n"
          ],
          "name": "stdout"
        }
      ]
    },
    {
      "cell_type": "code",
      "metadata": {
        "colab": {
          "base_uri": "https://localhost:8080/"
        },
        "id": "0x12c3-Q4uCD",
        "outputId": "baed6e4f-d570-4913-ba68-668716572ae0"
      },
      "source": [
        "#programa del ejemplo 2.8 pag 68\n",
        "#este programa calcula el aumento de un trabajador según su categoría\n",
        "\n",
        "print(\"este programa calcula el aumento de un trabajador según su categoría, 15% 10% 8% 7%\")\n",
        "nombre=input(\"¿Cuál es el nombre del trabajador?\")\n",
        "categoria=int(input(f\"Digita la categoría del trabajador {nombre} \\n 1, 2, 3, ó 4: \"))\n",
        "\n",
        "if (categoria!=1 and categoria!=2 and categoria!=3 and categoria!=4):\n",
        "  print(f\"Digite una categoría válida para {nombre}\")\n",
        "else:\n",
        "  sal1=float(input(f\"Digita el salario del trabajador {nombre} $\"))\n",
        "  \n",
        "  if categoria==1:\n",
        "    aumento=sal1*.15\n",
        "    sal2=sal1+aumento\n",
        "    print(f\"El salario de {nombre} con su aumento del 15% = ${round(aumento,2)} es de ${round(sal2,2)}\")\n",
        "  if categoria==2:\n",
        "    aumento=sal1*.10\n",
        "    sal2=sal1+aumento\n",
        "    print(f\"El salario de {nombre} con su aumento del 10% = ${round(aumento,2)} es de ${saround(sal2,2)}\")\n",
        "  if categoria==3:\n",
        "    aumento=sal1*.08\n",
        "    sal2=sal1+aumento\n",
        "    print(f\"El salario de {nombre} con su aumento del 8% = ${round(aumento,2)} es de ${round(sal2,2)}\")\n",
        "  if categoria==4:\n",
        "    aumento=sal1*.07\n",
        "    sal2=sal1+aumento\n",
        "    print(f\"El salario de {nombre} con su aumento del 7% = ${round(aumento,2)} es de ${round(sal2,2)}\")\n",
        "\n",
        "\n",
        "\n"
      ],
      "execution_count": 31,
      "outputs": [
        {
          "output_type": "stream",
          "text": [
            "este programa calcula el aumento de un trabajador según su categoría, 15% 10% 8% 7%\n",
            "¿Cuál es el nombre del trabajador?Memo\n",
            "Digita la categoría del trabajador Memo \n",
            " 1, 2, 3, ó 4: 6\n",
            "Digite una categoría válida para Memo\n"
          ],
          "name": "stdout"
        }
      ]
    }
  ]
}