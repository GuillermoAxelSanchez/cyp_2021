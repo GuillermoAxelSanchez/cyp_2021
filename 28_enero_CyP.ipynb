{
  "nbformat": 4,
  "nbformat_minor": 0,
  "metadata": {
    "colab": {
      "name": "28_enero_CyP.ipynb",
      "provenance": [],
      "authorship_tag": "ABX9TyOPtNtD9n/P+k4VNwdTBZe6",
      "include_colab_link": true
    },
    "kernelspec": {
      "name": "python3",
      "display_name": "Python 3"
    }
  },
  "cells": [
    {
      "cell_type": "markdown",
      "metadata": {
        "id": "view-in-github",
        "colab_type": "text"
      },
      "source": [
        "<a href=\"https://colab.research.google.com/github/GuillermoAxelSanchez/cyp_2021/blob/main/28_enero_CyP.ipynb\" target=\"_parent\"><img src=\"https://colab.research.google.com/assets/colab-badge.svg\" alt=\"Open In Colab\"/></a>"
      ]
    },
    {
      "cell_type": "markdown",
      "metadata": {
        "id": "gQlyu_A9BjwO"
      },
      "source": [
        "# Tuplas\r\n",
        "- Tipo de dato lineal, estructura de datos\r\n",
        "- No mutable\r\n",
        "- Puede contener de cero a n elementos\r\n",
        "- Se declara con paréntesis '()'\r\n",
        "- No puedes agregar ni eliminar elementos.\r\n",
        "- Pueden ser anidadas.\r\n",
        "- Los argumentos a una función son enviadas como tuplas.\r\n"
      ]
    },
    {
      "cell_type": "code",
      "metadata": {
        "colab": {
          "base_uri": "https://localhost:8080/"
        },
        "id": "U5nh-O71CQBM",
        "outputId": "9f496ba2-f82c-4804-d16d-5e8863ca8afb"
      },
      "source": [
        "frutas=('Sandía','Melón','Limón','Mango')\r\n",
        "print(frutas)\r\n",
        "print(frutas[1:3:1])\r\n",
        "print(frutas.count('Melón'))\r\n",
        "\r\n",
        "#son inmutables\r\n",
        "#frutas[1]=\"Manzanas\"\r\n",
        "\r\n",
        "#¿Para qué se usan?\r\n",
        "conexion=('192.168.1.1', 3306,'cyp_bd','usr_test','1234dios')\r\n",
        "print(f\"usuario: {conexion[3]} y password: {conexion[4]}\")"
      ],
      "execution_count": 12,
      "outputs": [
        {
          "output_type": "stream",
          "text": [
            "('Sandía', 'Melón', 'Limón', 'Mango')\n",
            "('Melón', 'Limón')\n",
            "1\n",
            "usuario: usr_test y password: 1234dios\n"
          ],
          "name": "stdout"
        }
      ]
    },
    {
      "cell_type": "code",
      "metadata": {
        "colab": {
          "base_uri": "https://localhost:8080/"
        },
        "id": "KUu-UhXYDVDY",
        "outputId": "f4168927-fae2-497c-8e41-7ae821ce077e"
      },
      "source": [
        "print(dir(frutas))"
      ],
      "execution_count": 5,
      "outputs": [
        {
          "output_type": "stream",
          "text": [
            "['__and__', '__class__', '__contains__', '__delattr__', '__dir__', '__doc__', '__eq__', '__format__', '__ge__', '__getattribute__', '__gt__', '__hash__', '__iand__', '__init__', '__init_subclass__', '__ior__', '__isub__', '__iter__', '__ixor__', '__le__', '__len__', '__lt__', '__ne__', '__new__', '__or__', '__rand__', '__reduce__', '__reduce_ex__', '__repr__', '__ror__', '__rsub__', '__rxor__', '__setattr__', '__sizeof__', '__str__', '__sub__', '__subclasshook__', '__xor__', 'add', 'clear', 'copy', 'difference', 'difference_update', 'discard', 'intersection', 'intersection_update', 'isdisjoint', 'issubset', 'issuperset', 'pop', 'remove', 'symmetric_difference', 'symmetric_difference_update', 'union', 'update']\n"
          ],
          "name": "stdout"
        }
      ]
    },
    {
      "cell_type": "markdown",
      "metadata": {
        "id": "mJCJ7s7wFp_4"
      },
      "source": [
        "# Diccionarios\r\n",
        "- Estructura de datos semi lineal.\r\n",
        "- Formada por pares, llave-valor.\r\n",
        "- Son equivalentes al tipo de dato JSON, de JavaScript\r\n",
        "- Utiliza organización por función de disperción.\r\n",
        "- Se declara con los elementos '{ }'\r\n",
        "- El selector usa valores de tipo string (llave)\r\n",
        "- No se puede seleccionar por offset [n]\r\n",
        "- Son mutables"
      ]
    },
    {
      "cell_type": "code",
      "metadata": {
        "colab": {
          "base_uri": "https://localhost:8080/"
        },
        "id": "TdF1E4R6G8KU",
        "outputId": "76a20f4d-e725-420d-da73-03f2b1c609c3"
      },
      "source": [
        "alumno={'nombre':'Juan Perez','Edad':'18','Cuenta':'421025804','Titulado':False,'Promedio':'9.5'}\r\n",
        "print(alumno)\r\n",
        "print(alumno['nombre'])\r\n",
        "print(f\"Alumno titulado: {alumno['Titulado']}\")\r\n",
        "\r\n",
        "\r\n",
        "print(alumno['nombre'].upper())\r\n",
        "print(\"-----------------\")\r\n",
        "alumno['seguro']=True\r\n",
        "print(alumno)\r\n"
      ],
      "execution_count": 21,
      "outputs": [
        {
          "output_type": "stream",
          "text": [
            "{'nombre': 'Juan Perez', 'Edad': '18', 'Cuenta': '421025804', 'Titulado': False, 'Promedio': '9.5'}\n",
            "Juan Perez\n",
            "Alumno titulado: False\n",
            "JUAN PEREZ\n",
            "-----------------\n",
            "{'nombre': 'Juan Perez', 'Edad': '18', 'Cuenta': '421025804', 'Titulado': False, 'Promedio': '9.5', 'seguro': True}\n"
          ],
          "name": "stdout"
        }
      ]
    },
    {
      "cell_type": "code",
      "metadata": {
        "colab": {
          "base_uri": "https://localhost:8080/"
        },
        "id": "cU7tIb4LOMwz",
        "outputId": "a5fbffd8-efee-42c5-ee7d-c911435677d4"
      },
      "source": [
        "cliente={ }\r\n",
        "print(cliente)"
      ],
      "execution_count": 19,
      "outputs": [
        {
          "output_type": "stream",
          "text": [
            "{}\n"
          ],
          "name": "stdout"
        }
      ]
    },
    {
      "cell_type": "code",
      "metadata": {
        "colab": {
          "base_uri": "https://localhost:8080/"
        },
        "id": "9JYQd1G8VGX3",
        "outputId": "abdcbb19-a025-44c7-f621-586e92d5f90e"
      },
      "source": [
        "funciones=dir(dict)\r\n",
        "for funcion  in funciones:\r\n",
        "  print(funcion)"
      ],
      "execution_count": 22,
      "outputs": [
        {
          "output_type": "stream",
          "text": [
            "__class__\n",
            "__contains__\n",
            "__delattr__\n",
            "__delitem__\n",
            "__dir__\n",
            "__doc__\n",
            "__eq__\n",
            "__format__\n",
            "__ge__\n",
            "__getattribute__\n",
            "__getitem__\n",
            "__gt__\n",
            "__hash__\n",
            "__init__\n",
            "__init_subclass__\n",
            "__iter__\n",
            "__le__\n",
            "__len__\n",
            "__lt__\n",
            "__ne__\n",
            "__new__\n",
            "__reduce__\n",
            "__reduce_ex__\n",
            "__repr__\n",
            "__setattr__\n",
            "__setitem__\n",
            "__sizeof__\n",
            "__str__\n",
            "__subclasshook__\n",
            "clear\n",
            "copy\n",
            "fromkeys\n",
            "get\n",
            "items\n",
            "keys\n",
            "pop\n",
            "popitem\n",
            "setdefault\n",
            "update\n",
            "values\n"
          ],
          "name": "stdout"
        }
      ]
    },
    {
      "cell_type": "markdown",
      "metadata": {
        "id": "FE42DHKmVE0c"
      },
      "source": [
        "# Manipulación de los pares llave:valor.\r\n",
        "Para ello se emplean los métodos\r\n",
        "- keys() : Te regresa una tupla con los strings llave del diccionario\r\n",
        "- values(): Te regresa los valores\r\n",
        "- items(): Te regresa los pares\r\n"
      ]
    },
    {
      "cell_type": "code",
      "metadata": {
        "colab": {
          "base_uri": "https://localhost:8080/"
        },
        "id": "IPaAKM8GVEWz",
        "outputId": "031bf3ba-d5cd-45a1-841b-172f40ef2823"
      },
      "source": [
        "print(alumno)\r\n",
        "llaves=alumno.keys()\r\n",
        "print(llaves)\r\n",
        "\r\n",
        "for elem in llaves:\r\n",
        "  print(elem, end=\" \")\r\n",
        "  print(alumno[elem])\r\n",
        "\r\n",
        "#Manipular los valores\r\n",
        "print(\".-.-.-.-.-.-.-.--.-.-.-.--.-.-\")\r\n",
        "valores=alumno.values()\r\n",
        "print(valores)\r\n",
        "for val in valores:\r\n",
        "  print(val)\r\n",
        "\r\n",
        "#Manipular pares\r\n",
        "print(\"~~~~~~~~~~~~~~~~~~~~~~~~~~~~~~~~~~~~\")\r\n",
        "pares=alumno.items()\r\n",
        "print(pares)\r\n",
        "for par in pares:\r\n",
        "  print(par)"
      ],
      "execution_count": 34,
      "outputs": [
        {
          "output_type": "stream",
          "text": [
            "{'nombre': 'Juan Perez', 'Edad': '18', 'Cuenta': '421025804', 'Titulado': False, 'Promedio': '9.5', 'seguro': True}\n",
            "dict_keys(['nombre', 'Edad', 'Cuenta', 'Titulado', 'Promedio', 'seguro'])\n",
            "nombre Juan Perez\n",
            "Edad 18\n",
            "Cuenta 421025804\n",
            "Titulado False\n",
            "Promedio 9.5\n",
            "seguro True\n",
            ".-.-.-.-.-.-.-.--.-.-.-.--.-.-\n",
            "dict_values(['Juan Perez', '18', '421025804', False, '9.5', True])\n",
            "Juan Perez\n",
            "18\n",
            "421025804\n",
            "False\n",
            "9.5\n",
            "True\n",
            "~~~~~~~~~~~~~~~~~~~~~~~~~~~~~~~~~~~~\n",
            "dict_items([('nombre', 'Juan Perez'), ('Edad', '18'), ('Cuenta', '421025804'), ('Titulado', False), ('Promedio', '9.5'), ('seguro', True)])\n",
            "('nombre', 'Juan Perez')\n",
            "('Edad', '18')\n",
            "('Cuenta', '421025804')\n",
            "('Titulado', False)\n",
            "('Promedio', '9.5')\n",
            "('seguro', True)\n"
          ],
          "name": "stdout"
        }
      ]
    },
    {
      "cell_type": "code",
      "metadata": {
        "id": "UPsmIdwPZVDw"
      },
      "source": [
        "#Kareli\r\n",
        "alumno = {    'nombre'  : 'Juan Pérez'  ,\r\n",
        "          'edad' : 18, \r\n",
        "          'Matricula': 312193,\r\n",
        "          'calificaciones' : {'Mate': 8 , 'ciencias': 9, 'ingles': 8 },\r\n",
        "          'aprovado' : True,\r\n",
        "          'direccion': {\r\n",
        "                        'calle':'Rancho seco',\r\n",
        "                        'numero': 's/n',\r\n",
        "                        'colonia': 'impulsora popular avicola',\r\n",
        "                        'municipio': 'Mi-nezota',\r\n",
        "                        'estado':{\r\n",
        "                                   'clave':15,\r\n",
        "                                   'nombre_clave':'MEX',\r\n",
        "                                   'nombre':\"Estado de México\"\r\n",
        "                                  }\r\n",
        "                       }\r\n",
        "          }"
      ],
      "execution_count": null,
      "outputs": []
    }
  ]
}