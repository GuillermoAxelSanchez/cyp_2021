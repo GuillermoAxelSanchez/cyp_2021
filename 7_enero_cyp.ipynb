{
  "nbformat": 4,
  "nbformat_minor": 0,
  "metadata": {
    "colab": {
      "name": "7_enero_cyp.ipynb",
      "provenance": [],
      "collapsed_sections": [],
      "authorship_tag": "ABX9TyNB0t4dPHk7vQ5f3QmS38CL",
      "include_colab_link": true
    },
    "kernelspec": {
      "name": "python3",
      "display_name": "Python 3"
    }
  },
  "cells": [
    {
      "cell_type": "markdown",
      "metadata": {
        "id": "view-in-github",
        "colab_type": "text"
      },
      "source": [
        "<a href=\"https://colab.research.google.com/github/GuillermoAxelSanchez/cyp_2021/blob/main/7_enero_cyp.ipynb\" target=\"_parent\"><img src=\"https://colab.research.google.com/assets/colab-badge.svg\" alt=\"Open In Colab\"/></a>"
      ]
    },
    {
      "cell_type": "code",
      "metadata": {
        "id": "LzYhP8je4YQN"
      },
      "source": [
        "#Problema 4.1 CORREXIÓN DEL ÚLTIMO DE LA CLASE DEL 5/1/21\r\n",
        "n = int(input(\"Ingrese el numero de elementos del arreglo: \"))\r\n",
        "\r\n",
        "\r\n",
        "if n>=1 and n <=500:\r\n",
        "  vect=[0.0 for x in range(n)]\r\n",
        "  for i in range(n):\r\n",
        "    vect[i]=int(input(\"Digita un nuumero: \"))\r\n",
        "  print(f\"\\nLista de numeros sin repeticiones: \")\r\n",
        "  i=0\r\n",
        "  while i<n:\r\n",
        "    print(f\"lista {vect[i]}\")\r\n",
        "    repet=vect[i]\r\n",
        "    while i<n and i!=n-1 and repet==vect[i+1] :\r\n",
        "      \r\n",
        "      i=i+1\r\n",
        "    i=i+1\r\n",
        "    \r\n",
        "\r\n",
        "else:\r\n",
        "  print(\"Digita un numero dentro de 1 a 500\")\r\n"
      ],
      "execution_count": null,
      "outputs": []
    },
    {
      "cell_type": "code",
      "metadata": {
        "id": "XTGXtdX-8AkF"
      },
      "source": [
        "\r\n",
        "REN=3\r\n",
        "COL=5\r\n",
        "VEC = [[0 for x in range(COL)] for x in range(REN)]\r\n",
        "print(VEC)\r\n",
        "VEC[1][2]=15\r\n",
        "print(VEC)\r\n",
        "\r\n",
        "print(\"Automatizar el recorrido del arreglo\")\r\n",
        "for i in range(REN):\r\n",
        "  for j in range(COL):\r\n",
        "    print(f\"{i},{j} = {VEC[i][j]}\")"
      ],
      "execution_count": null,
      "outputs": []
    },
    {
      "cell_type": "code",
      "metadata": {
        "id": "fe9RCsHHr3gD"
      },
      "source": [
        "estados = 2\r\n",
        "\r\n",
        "lluvias_men_est= [ [0 for x in range(12)] for x in range(estados)]\r\n",
        "print(lluvias_men_est)\r\n",
        "for i in range(estados):\r\n",
        "  for j in range(12):\r\n",
        "    aux = int(input(\"Dame siguiente valor: \"))\r\n",
        "    lluvias_men_est[i][j] = aux\r\n",
        "print(lluvias_men_est)\r\n",
        "\r\n",
        "print(\"PROMEDIO DE LLUVIAS EN LOS ESTADOS\")\r\n",
        "SUMA = 0\r\n",
        "PROM = 0\r\n",
        "for i in range(estados):\r\n",
        "  for j in range(12):\r\n",
        "    SUMA = SUMA + lluvias_men_est[i][j]\r\n",
        "  print(f\"El promedio de lluvias {i + 1} es {SUMA 1/2}\")"
      ],
      "execution_count": null,
      "outputs": []
    }
  ]
}