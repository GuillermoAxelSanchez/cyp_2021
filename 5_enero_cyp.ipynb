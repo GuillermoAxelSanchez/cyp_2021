{
  "nbformat": 4,
  "nbformat_minor": 0,
  "metadata": {
    "colab": {
      "name": "5_enero_cyp.ipynb",
      "provenance": [],
      "authorship_tag": "ABX9TyOgwHGAnuxTtpf521OzAr7f",
      "include_colab_link": true
    },
    "kernelspec": {
      "name": "python3",
      "display_name": "Python 3"
    }
  },
  "cells": [
    {
      "cell_type": "markdown",
      "metadata": {
        "id": "view-in-github",
        "colab_type": "text"
      },
      "source": [
        "<a href=\"https://colab.research.google.com/github/GuillermoAxelSanchez/cyp_2021/blob/main/5_enero_cyp.ipynb\" target=\"_parent\"><img src=\"https://colab.research.google.com/assets/colab-badge.svg\" alt=\"Open In Colab\"/></a>"
      ]
    },
    {
      "cell_type": "code",
      "metadata": {
        "colab": {
          "base_uri": "https://localhost:8080/"
        },
        "id": "X05Efds-i_4U",
        "outputId": "72a62f38-d989-4ed5-fdd5-e9a0e6854e4f"
      },
      "source": [
        "\r\n",
        "sueldos = [0.0 for x in range(7)] #Genera un lista de 70 espacios inicializados en 0.9 (float)\r\n",
        "\r\n",
        "print(sueldos)\r\n",
        "\r\n",
        "sueldos[0] = 12.1\r\n",
        "sueldos[1] = 12.2\r\n",
        "sueldos[2] = 12.3\r\n",
        "sueldos[3] = 12.4\r\n",
        "sueldos[4] = 12.5\r\n",
        "sueldos[5] = 12.6\r\n",
        "sueldos[6] = 12.7\r\n",
        "\r\n",
        "print(sueldos)\r\n",
        "\r\n",
        "for i in range(7):\r\n",
        "  sueldos[i] = float(i)+1\r\n",
        "\r\n",
        "print(sueldos)\r\n",
        "\r\n",
        "for i in range(7):\r\n",
        "  print(f\"el trabajador gana: {sueldos[i]}\")"
      ],
      "execution_count": 6,
      "outputs": [
        {
          "output_type": "stream",
          "text": [
            "[0.0, 0.0, 0.0, 0.0, 0.0, 0.0, 0.0]\n",
            "[12.1, 12.2, 12.3, 12.4, 12.5, 12.6, 12.7]\n",
            "[1.0, 2.0, 3.0, 4.0, 5.0, 6.0, 7.0]\n",
            "1.0\n",
            "2.0\n",
            "3.0\n",
            "4.0\n",
            "5.0\n",
            "6.0\n",
            "7.0\n"
          ],
          "name": "stdout"
        }
      ]
    },
    {
      "cell_type": "code",
      "metadata": {
        "colab": {
          "base_uri": "https://localhost:8080/"
        },
        "id": "1d3nE6I0on5D",
        "outputId": "e9a8e976-dd5e-4ee7-82ca-f0daf63176bd"
      },
      "source": [
        "#Ejemplo 4.1\r\n",
        "\r\n",
        "n=7\r\n",
        "sueldo = [0.0 for x in range(n)]\r\n",
        "suma=0.0\r\n",
        "promedio=0.0\r\n",
        "\r\n",
        "for i in range(n):\r\n",
        "  sueldo[i]=float(input(f\"Digita el sueldo del trabajador {i+1}: \"))\r\n",
        "  #suma+=sueldo[i]\r\n",
        "\r\n",
        "for i in range(n):\r\n",
        "  print(f\"el trabajador {i+1} gana {sueldos[i]}\")\r\n",
        "\r\n",
        "for i in range(n):\r\n",
        "  suma+=sueldo[i]\r\n",
        "\r\n",
        "promedio=suma/n\r\n",
        "print(f\"El promedio de sueldo es ${promedio} \")\r\n",
        "\r\n",
        "cont=0\r\n",
        "for i in range(n):\r\n",
        "  if sueldo[i]>promedio:\r\n",
        "    print(f\"El sueldo del trabajador {i+1} está sobre el promedio\")\r\n",
        "    cont+=1\r\n",
        "print(f\"\\nTotal de mayores al promedio {cont}\")"
      ],
      "execution_count": 14,
      "outputs": [
        {
          "output_type": "stream",
          "text": [
            "Digita el sueldo del trabajador 1: 4\n",
            "Digita el sueldo del trabajador 2: 5\n",
            "Digita el sueldo del trabajador 3: 4\n",
            "Digita el sueldo del trabajador 4: 5\n",
            "Digita el sueldo del trabajador 5: 4\n",
            "Digita el sueldo del trabajador 6: 5\n",
            "Digita el sueldo del trabajador 7: 4\n",
            "el trabajador 1 gana 1.0\n",
            "el trabajador 2 gana 2.0\n",
            "el trabajador 3 gana 3.0\n",
            "el trabajador 4 gana 4.0\n",
            "el trabajador 5 gana 5.0\n",
            "el trabajador 6 gana 6.0\n",
            "el trabajador 7 gana 7.0\n",
            "El promedio de sueldo es $4.428571428571429 \n",
            "El sueldo del trabajador 2 está sobre el promedio\n",
            "El sueldo del trabajador 4 está sobre el promedio\n",
            "El sueldo del trabajador 6 está sobre el promedio\n",
            "\n",
            "Total de mayores al promedio 3\n"
          ],
          "name": "stdout"
        }
      ]
    },
    {
      "cell_type": "code",
      "metadata": {
        "colab": {
          "base_uri": "https://localhost:8080/"
        },
        "id": "77ZjN9qDspxO",
        "outputId": "2b53051a-3572-47c8-8108-ea9bce94753b"
      },
      "source": [
        "\"\"\"\r\n",
        "programa que solicite 5 valores enteros positivos y una vez que se capturen, el programa determine\r\n",
        "  -cuál es el mayor\r\n",
        "  -cual es el menor\r\n",
        "  -cual es el promedio\r\n",
        "\"\"\"\r\n",
        "n=5\r\n",
        "arr= [0 for x in range(n)]\r\n",
        "\r\n",
        "for i in range(n):\r\n",
        "  prueba=int(input(f\"digita un valor entero positivo \")) \r\n",
        "  if prueba>0:\r\n",
        "    arr[i]= prueba\r\n",
        "  else:\r\n",
        "    print(\"Digita un valor positivo\")\r\n",
        "    i=i-1"
      ],
      "execution_count": 19,
      "outputs": [
        {
          "output_type": "stream",
          "text": [
            "digita un valor entero positivo 1\n",
            "digita un valor entero positivo 2\n",
            "digita un valor entero positivo -1\n",
            "Digita un valor positivo\n",
            "digita un valor entero positivo -1\n",
            "Digita un valor positivo\n",
            "digita un valor entero positivo -1\n",
            "Digita un valor positivo\n"
          ],
          "name": "stdout"
        }
      ]
    },
    {
      "cell_type": "code",
      "metadata": {
        "colab": {
          "base_uri": "https://localhost:8080/"
        },
        "id": "sznFLHrTw4Fc",
        "outputId": "2b81ea34-a871-4192-dea0-142b80d49b11"
      },
      "source": [
        "#Problema 4.1\r\n",
        "n = int(input(\"Ingrese el numero de elementos del arreglo: \"))\r\n",
        "\r\n",
        "\r\n",
        "if n>=1 and n <=500:\r\n",
        "  vect=[0.0 for x in range(n)]\r\n",
        "  for i in range(n):\r\n",
        "    vect[i]=int(input(\"Digita un nuumero: \"))\r\n",
        "  print(f\"\\nLista de numeros sin repeticiones: \")\r\n",
        "  i=0\r\n",
        "  while i<n:\r\n",
        "    print(f\"lista {vect[i]}\")\r\n",
        "    repet=vect[i]\r\n",
        "    while i<n and repet==vect[i]:\r\n",
        "      \r\n",
        "      i=i+1\r\n",
        "    i=i+1\r\n",
        "    \r\n",
        "\r\n",
        "else:\r\n",
        "  print(\"Digita un numero dentro de 1 a 500\")\r\n"
      ],
      "execution_count": 41,
      "outputs": [
        {
          "output_type": "stream",
          "text": [
            "Ingrese el numero de elementos del arreglo: 5\n",
            "Digita un nuumero: 1\n",
            "Digita un nuumero: 2\n",
            "Digita un nuumero: 3\n",
            "Digita un nuumero: 4\n",
            "Digita un nuumero: 4\n",
            "\n",
            "Lista de numeros sin repeticiones: \n",
            "lista 1\n",
            "lista 3\n",
            "lista 4\n"
          ],
          "name": "stdout"
        }
      ]
    }
  ]
}