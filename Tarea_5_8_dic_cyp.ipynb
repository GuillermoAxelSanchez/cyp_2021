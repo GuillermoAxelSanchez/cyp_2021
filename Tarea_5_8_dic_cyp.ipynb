{
  "nbformat": 4,
  "nbformat_minor": 0,
  "metadata": {
    "colab": {
      "name": "Tarea_5_8_dic_cyp.ipynb",
      "provenance": [],
      "authorship_tag": "ABX9TyNaEEqUETtLXYJxniHAg+H5",
      "include_colab_link": true
    },
    "kernelspec": {
      "name": "python3",
      "display_name": "Python 3"
    }
  },
  "cells": [
    {
      "cell_type": "markdown",
      "metadata": {
        "id": "view-in-github",
        "colab_type": "text"
      },
      "source": [
        "<a href=\"https://colab.research.google.com/github/GuillermoAxelSanchez/cyp_2021/blob/main/Tarea_5_8_dic_cyp.ipynb\" target=\"_parent\"><img src=\"https://colab.research.google.com/assets/colab-badge.svg\" alt=\"Open In Colab\"/></a>"
      ]
    },
    {
      "cell_type": "code",
      "metadata": {
        "colab": {
          "base_uri": "https://localhost:8080/"
        },
        "id": "3h-Xd91i-T_T",
        "outputId": "034c74e1-5f27-4785-9900-c187f3c2f177"
      },
      "source": [
        "#Ejercicio 3.1 pág 109\n",
        "#Este programa calcula la nómina del sueldo de 10 trabajadores\n",
        "nomina=0.0\n",
        "for i in range(10):\n",
        "  sueldo=float(input(f\"Digita el sueldo del trabajador número {i+1}: \"))\n",
        "  nomina=nomina+sueldo\n",
        "print(f\"La nómina es: {nomina}\")"
      ],
      "execution_count": 4,
      "outputs": [
        {
          "output_type": "stream",
          "text": [
            "Digita el sueldo del trabajador número 1: 1\n",
            "Digita el sueldo del trabajador número 2: 1\n",
            "Digita el sueldo del trabajador número 3: 1\n",
            "Digita el sueldo del trabajador número 4: 1\n",
            "Digita el sueldo del trabajador número 5: 1\n",
            "Digita el sueldo del trabajador número 6: 1\n",
            "Digita el sueldo del trabajador número 7: 1\n",
            "Digita el sueldo del trabajador número 8: 1\n",
            "Digita el sueldo del trabajador número 9: 1\n",
            "Digita el sueldo del trabajador número 10: 1\n",
            "La nómina es: 10.0\n"
          ],
          "name": "stdout"
        }
      ]
    },
    {
      "cell_type": "code",
      "metadata": {
        "colab": {
          "base_uri": "https://localhost:8080/"
        },
        "id": "YZkkP_9L_nub",
        "outputId": "28befcb6-966f-4499-8473-98b0779cc762"
      },
      "source": [
        "#Ejercicio 3.4 pág 117\n",
        "#Este programa calcula la suma de los gastos de un viaje, no se sabe cuántos son \n",
        "i=0\n",
        "j=0\n",
        "gasto=0.0\n",
        "total=0.0\n",
        "while(i==0):\n",
        "  j=j+1\n",
        "  gasto=float(input(f\"Digita cuánto gastaste, gasto numero: {j}, $\"))\n",
        "  total=total+gasto\n",
        "  i=int(input(\"¿Desea agregar otro gasto? 0=Sí  1=No  \"))\n",
        "\n",
        "print(f\"La suma de {j} gastos  es : ${total}\")\n",
        "  "
      ],
      "execution_count": 9,
      "outputs": [
        {
          "output_type": "stream",
          "text": [
            "Digita cuánto gastaste, gasto numero: 1, $100\n",
            "¿Desea agregar otro gasto? 0=Sí  1=No  0\n",
            "Digita cuánto gastaste, gasto numero: 2, $200\n",
            "¿Desea agregar otro gasto? 0=Sí  1=No  0\n",
            "Digita cuánto gastaste, gasto numero: 3, $300\n",
            "¿Desea agregar otro gasto? 0=Sí  1=No  1\n",
            "La suma de 3 gastos  es : $600.0\n"
          ],
          "name": "stdout"
        }
      ]
    }
  ]
}