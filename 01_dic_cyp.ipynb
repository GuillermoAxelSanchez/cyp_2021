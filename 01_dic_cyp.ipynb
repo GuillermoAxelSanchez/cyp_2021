{
  "nbformat": 4,
  "nbformat_minor": 0,
  "metadata": {
    "colab": {
      "name": "01_dic_cyp.ipynb",
      "provenance": [],
      "authorship_tag": "ABX9TyPe6zQzD2GsnBRsOK5LAslV",
      "include_colab_link": true
    },
    "kernelspec": {
      "name": "python3",
      "display_name": "Python 3"
    }
  },
  "cells": [
    {
      "cell_type": "markdown",
      "metadata": {
        "id": "view-in-github",
        "colab_type": "text"
      },
      "source": [
        "<a href=\"https://colab.research.google.com/github/GuillermoAxelSanchez/cyp_2021/blob/main/01_dic_cyp.ipynb\" target=\"_parent\"><img src=\"https://colab.research.google.com/assets/colab-badge.svg\" alt=\"Open In Colab\"/></a>"
      ]
    },
    {
      "cell_type": "code",
      "metadata": {
        "colab": {
          "base_uri": "https://localhost:8080/"
        },
        "id": "NRzFlAoOS6VR",
        "outputId": "36cb4184-4182-4d9d-e43c-2d1db249aedc"
      },
      "source": [
        "#ejemplo 2\n",
        "#pedir tres valores y mostrar el mayor\n",
        "numero1=int(input(\"introduce el primer numero:\"))\n",
        "numero2=int(input(\"introduce el degundo numero:\"))\n",
        "numero3=int(input(\"introduce el tercer numero:\"))\n",
        "if(numero1>=numero2 and numero1>=numero3):\n",
        "  print(f\"el mayor es {numero1}\")\n",
        "\n",
        "if(numero2>=numero1 and numero2>=numero3):\n",
        "  print(f\"el mayor es {numero2}\")\n",
        "\n",
        "if(numero3>=numero1 and numero3>=numero2):\n",
        "  print(f\"el mayor es {numero3}\")"
      ],
      "execution_count": 6,
      "outputs": [
        {
          "output_type": "stream",
          "text": [
            "introduce el primer numero:5\n",
            "introduce el degundo numero:4\n",
            "introduce el tercer numero:3\n",
            "el mayor es 5\n"
          ],
          "name": "stdout"
        }
      ]
    },
    {
      "cell_type": "code",
      "metadata": {
        "colab": {
          "base_uri": "https://localhost:8080/"
        },
        "id": "IZR3Zqg7ZY6H",
        "outputId": "69bbfeaf-97e4-4d4c-e0c7-119aa7f44067"
      },
      "source": [
        "#Ejemplo 2\n",
        "print(\"Ingrese el nombre del trabajador\")\n",
        "nombre=str (input())\n",
        "print(\"¿Cuantas horas trabajo esta semana?\",nombre,\":\" )\n",
        "horas=int (input())\n",
        "print(\"¿Cuanto se le paga por hora?:\")\n",
        "sueldoH= float (input())\n",
        "\n",
        "#Evaluar su sueldo\n",
        "\n",
        "if (horas<=40):\n",
        "  pago = horas*sueldoH\n",
        "  print(nombre,\"Su pago total es de $\",pago)\n",
        "\n",
        "else:\n",
        "  extras = horas - 40\n",
        "  pago = 40*sueldoH\n",
        "  pagoFinal = pago + ((extras * sueldoH)*2)\n",
        "  print(nombre,\"Su pago total es de $\",pagoFinal)"
      ],
      "execution_count": 12,
      "outputs": [
        {
          "output_type": "stream",
          "text": [
            "Ingrese el nombre del trabajador\n",
            "MArio\n",
            "¿Cuantas horas trabajo esta semana? MArio :\n",
            "50\n",
            "¿Cuanto se le paga por hora?:\n",
            "20\n",
            "MArio Su pago total es de $ 1200.0\n"
          ],
          "name": "stdout"
        }
      ]
    },
    {
      "cell_type": "code",
      "metadata": {
        "colab": {
          "base_uri": "https://localhost:8080/"
        },
        "id": "Qc8Ir63vcxzi",
        "outputId": "673e8a9f-4066-4bbc-bcce-3a61195f4b6f"
      },
      "source": [
        "#Ejemplo 3\n",
        "#Ejemplo 3\n",
        "#Calcular el salario semanal de x trabajador\n",
        "#El salario semanal se calcula en base a las horas semanales trabajadas\n",
        "#El pago por hora es variable (se pide por teclado)\n",
        "#Si las horas trabajadas superan las 40 horas, el pago por hora extra es:\n",
        "#Doble en el rango de 41horas a 50horas\n",
        "#Triple en el rango de 51horas a 60 horas\n",
        "#Incentivo de $2000 si rebasa las 60 horas.\n",
        "\n",
        "print(\"Ingrese el nombre del trabajador\")\n",
        "nombre=str (input())\n",
        "print(\"¿Cuantas horas trabajo esta semana?\",nombre,\":\" )\n",
        "horas=int (input())\n",
        "print(\"¿Cuanto se le paga por hora?:\")\n",
        "sueldoH= float (input())\n",
        "\n",
        "#Evaluar el sueldo\n",
        "\n",
        "if (horas<=40):\n",
        "  pago=horas*sueldoH\n",
        "  print(nombre, \"su sueldo final es de $\",pago,\"\\n\")\n",
        "\n",
        "elif ((horas>=41)and(horas<=50)):\n",
        "  extrasDobles = horas-40\n",
        "  print(\"Horas extras dobles:\",extrasDobles)\n",
        "  pago=40*sueldoH\n",
        "  print(\"Sueldo base: $\",pago)\n",
        "  pagoDoble=extrasDobles*(sueldoH*2)\n",
        "  print(\"Pago de horas dobles: $\",pagoDoble)\n",
        "  pagoFinal=pagoDoble+pago\n",
        "  print(nombre, \",su sueldo total es de $\",pagoFinal)\n",
        "\n",
        "elif (horas>50 and horas<=60):\n",
        "  horasTriples=horas-50\n",
        "  print(\"horas extra dobles: 10\")\n",
        "  print(f\"Horas extra triples {horasTriples}\")\n",
        "  pago=40*sueldoH\n",
        "  print(f\"Sueldo base: {pago}\")\n",
        "  pagoDoble=10*sueldoH*2\n",
        "  print(f\"Pago por horas dobles {pagoDoble}\")\n",
        "  pagoTriple=horasTriples*sueldoH*3\n",
        "  print(f\"El pago por horas triples es {pagoTriple}\")\n",
        "  pagoFinal=pago+pagoDoble+pagoTriple\n",
        "  print(f\"El pago final por todo de {nombre} es: {pagoFinal} \")\n",
        "\n",
        "else:\n",
        "  ayuda=2000\n",
        "  print(\"horas extra dobles: 10\")\n",
        "  print(f\"Horas extra triples: 10\")\n",
        "  print(f\"Incetivo por más de 60 horas: 2000\")\n",
        "  pago=40*sueldoH\n",
        "  print(f\"Sueldo base: {pago}\")\n",
        "  pagoDoble=10*sueldoH*2\n",
        "  print(f\"Pago por horas dobles {pagoDoble}\")\n",
        "  pagoTriple=10*sueldoH*3\n",
        "  print(f\"El pago por horas triples es {pagoTriple}\")\n",
        "  pagoFinal=pago+pagoDoble+pagoTriple+ayuda\n",
        "  print(f\"El pago final por todo de {nombre} es: {pagoFinal} \")\n",
        "\n"
      ],
      "execution_count": 27,
      "outputs": [
        {
          "output_type": "stream",
          "text": [
            "Ingrese el nombre del trabajador\n",
            "MeMo\n",
            "¿Cuantas horas trabajo esta semana? MeMo :\n",
            "40\n",
            "¿Cuanto se le paga por hora?:\n",
            "10\n",
            "MeMo su sueldo final es de $ 400.0 \n",
            "\n"
          ],
          "name": "stdout"
        }
      ]
    },
    {
      "cell_type": "code",
      "metadata": {
        "colab": {
          "base_uri": "https://localhost:8080/"
        },
        "id": "bBkQvuzooBVW",
        "outputId": "7e4d7ff9-5de0-427e-8bd2-ba5b85dd3016"
      },
      "source": [
        "#For Ejemplo 1\n",
        "\n",
        "for estacionesDelAño in[\"primavera\", \"verano\", \"otoño\", \"invierno\"]:\n",
        "  print(estacionesDelAño)\n",
        "\n",
        "#variables que sulen formar parte de un for son \"i\" \"j\"\n"
      ],
      "execution_count": 29,
      "outputs": [
        {
          "output_type": "stream",
          "text": [
            "primavera\n",
            "verano\n",
            "otoño\n",
            "invierno\n"
          ],
          "name": "stdout"
        }
      ]
    },
    {
      "cell_type": "code",
      "metadata": {
        "colab": {
          "base_uri": "https://localhost:8080/"
        },
        "id": "tojaB7snqbpj",
        "outputId": "63708d17-2b35-434e-d6ca-3d76eb9ce096"
      },
      "source": [
        "#For Ejemplo 2\n",
        "\n",
        "for estacionesDelAño in[\"primavera\", \"verano\", \"otoño\", \"invierno\"]:\n",
        "  print(\"hola\")"
      ],
      "execution_count": 30,
      "outputs": [
        {
          "output_type": "stream",
          "text": [
            "hola\n",
            "hola\n",
            "hola\n",
            "hola\n"
          ],
          "name": "stdout"
        }
      ]
    }
  ]
}