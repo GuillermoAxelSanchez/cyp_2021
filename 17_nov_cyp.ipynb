{
  "nbformat": 4,
  "nbformat_minor": 0,
  "metadata": {
    "colab": {
      "name": "17_nov_cyp.ipynb",
      "provenance": [],
      "authorship_tag": "ABX9TyN5SAN37wcDFinUw9qfhLOH",
      "include_colab_link": true
    },
    "kernelspec": {
      "name": "python3",
      "display_name": "Python 3"
    }
  },
  "cells": [
    {
      "cell_type": "markdown",
      "metadata": {
        "id": "view-in-github",
        "colab_type": "text"
      },
      "source": [
        "<a href=\"https://colab.research.google.com/github/GuillermoAxelSanchez/cyp_2021/blob/main/17_nov_cyp.ipynb\" target=\"_parent\"><img src=\"https://colab.research.google.com/assets/colab-badge.svg\" alt=\"Open In Colab\"/></a>"
      ]
    },
    {
      "cell_type": "code",
      "metadata": {
        "colab": {
          "base_uri": "https://localhost:8080/"
        },
        "id": "gJ1dQBNSSFzz",
        "outputId": "7547c677-a50d-4abe-91f5-18a5f8c4c54f"
      },
      "source": [
        "edad = 15\n",
        "estatura = 1.67\n",
        "a = 10\n",
        "b = 3\n",
        "c = 2**b+2+3+4\n",
        "print(c)\n",
        "\n",
        "e=estatura*2.0\n",
        "print(e)\n",
        "\n",
        "f=a/b #en python se hace el cálculo exacto\n",
        "print(f) #3.3333333\n",
        "\n",
        "#podemos obligar a poner solo el número entero \n",
        "g=a//b\n",
        "print(\"g= \", g) #g=3\n",
        "\n",
        "#para recuperar el residuo\n",
        "h=a%b\n",
        "print(h) #el residuo de 10 entre 3 es 1\n",
        "\n",
        "num=10\n",
        "print(\"es par num?\", (num%2)==0)"
      ],
      "execution_count": 9,
      "outputs": [
        {
          "output_type": "stream",
          "text": [
            "17\n",
            "3.34\n",
            "3.3333333333333335\n",
            "g=  3\n",
            "1\n",
            "es par num True\n"
          ],
          "name": "stdout"
        }
      ]
    },
    {
      "cell_type": "code",
      "metadata": {
        "colab": {
          "base_uri": "https://localhost:8080/"
        },
        "id": "g8X1WBKJW6Du",
        "outputId": "28fcb449-51e2-4992-f6bf-fdb2442266ac"
      },
      "source": [
        "ecuacion=9+7*8-36/5 #jerarquía de operaciones\n",
        "print(ecuacion)\n",
        "\n",
        "ecuacion=(9+7)*8-36/5 #obligar a que se hagan primero los parentesis\n",
        "print(ecuacion)\n",
        "\n",
        "ecuacion=9+7*(8-36)/5 #jerarquía de operaciones\n",
        "print(ecuacion)"
      ],
      "execution_count": 12,
      "outputs": [
        {
          "output_type": "stream",
          "text": [
            "57.8\n",
            "120.8\n",
            "-30.200000000000003\n"
          ],
          "name": "stdout"
        }
      ]
    },
    {
      "cell_type": "code",
      "metadata": {
        "colab": {
          "base_uri": "https://localhost:8080/"
        },
        "id": "nRaRfaSDb4um",
        "outputId": "058e6a53-5cc7-47e0-886a-83e07c52ad59"
      },
      "source": [
        "#operadores lógicos\n",
        "valor= (5==4)\n",
        "print(valor)\n",
        "\n",
        "x=5\n",
        "y=4\n",
        "valor= (x==y) #son iguales ->faslo\n",
        "print(valor)\n",
        "\n",
        "valor= (x!=y) #son diferentes -->>verdadero\n",
        "print(valor)\n",
        "\n",
        "valor= (x<y) #X es menor que Y? --> falso\n",
        "print(valor)\n",
        "\n",
        "valor= (x>y) #X es mayor que Y? --> verdadero\n",
        "print(valor)\n",
        "\n",
        "y=5\n",
        "valor= (x<=y) #X es menor o igual que Y? --> verdadero\n",
        "print(valor)\n",
        "\n",
        "y=5\n",
        "valor= (x>=y) #X es mayor o igual que Y? --> verdadero\n",
        "print(valor)\n"
      ],
      "execution_count": 20,
      "outputs": [
        {
          "output_type": "stream",
          "text": [
            "False\n",
            "False\n",
            "True\n",
            "False\n",
            "True\n",
            "True\n",
            "True\n"
          ],
          "name": "stdout"
        }
      ]
    },
    {
      "cell_type": "code",
      "metadata": {
        "colab": {
          "base_uri": "https://localhost:8080/"
        },
        "id": "5b3eB1tZfftN",
        "outputId": "9578e974-b4d4-454b-fa62-9b521e346d13"
      },
      "source": [
        "costo_chetos=7.0\n",
        "tiendaAbierta=True\n",
        "capital=10\n",
        "\n",
        "se_compra = (costo_chetos<capital) and (tiendaAbierta==True)\n",
        "print(se_compra)\n",
        "\n"
      ],
      "execution_count": 25,
      "outputs": [
        {
          "output_type": "stream",
          "text": [
            "False\n"
          ],
          "name": "stdout"
        }
      ]
    }
  ]
}