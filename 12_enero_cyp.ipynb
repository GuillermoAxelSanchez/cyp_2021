{
  "nbformat": 4,
  "nbformat_minor": 0,
  "metadata": {
    "colab": {
      "name": "12_enero_cyp.ipynb",
      "provenance": [],
      "authorship_tag": "ABX9TyOg2BrrvGIjdbJs0fvxecjZ",
      "include_colab_link": true
    },
    "kernelspec": {
      "name": "python3",
      "display_name": "Python 3"
    }
  },
  "cells": [
    {
      "cell_type": "markdown",
      "metadata": {
        "id": "view-in-github",
        "colab_type": "text"
      },
      "source": [
        "<a href=\"https://colab.research.google.com/github/GuillermoAxelSanchez/cyp_2021/blob/main/12_enero_cyp.ipynb\" target=\"_parent\"><img src=\"https://colab.research.google.com/assets/colab-badge.svg\" alt=\"Open In Colab\"/></a>"
      ]
    },
    {
      "cell_type": "markdown",
      "metadata": {
        "id": "LvILA-RqpZGG"
      },
      "source": [
        "#Introducción a py\r\n",
        "- Python es un lenguaje nacido en los 90's. Se buscaba hacer un lenguaje sencillo para aprender y usado para enseñar.\r\n",
        "- En 2020 dejó de ser la versión 2.7 y ahora solo se le dará soporte a python3 en adelante.\r\n",
        "\r\n",
        "#Características.\r\n",
        "- Es de un lenguaje de propósito general.\r\n",
        "- Es un lenguaje interpretado, no compilado.\r\n",
        "- Tipos de datos (cadenas, numericos, bool, etc. ) Se asigna el tipo de manera automática.\r\n",
        "- Multiplataforma. \r\n",
        "- Multiparadigma. (POO, imperativa, funcional, orientado a objetos)\r\n",
        "- El código es estructurado por indentación.\r\n",
        "- Principios Zen\r\n",
        "- - Son los principios que guían el diseño del lenguaje de programación py\r\n"
      ]
    },
    {
      "cell_type": "code",
      "metadata": {
        "id": "OmH5LNVTAI9x",
        "colab": {
          "base_uri": "https://localhost:8080/"
        },
        "outputId": "5a75943b-d5ec-415f-ab2c-515f9df4b03f"
      },
      "source": [
        "#primer programa en python 3\r\n",
        "nombre=\"José\"\r\n",
        "edad=18\r\n",
        "print(\"Hola\",nombre,edad)"
      ],
      "execution_count": 2,
      "outputs": [
        {
          "output_type": "stream",
          "text": [
            "Hola José 18\n"
          ],
          "name": "stdout"
        }
      ]
    },
    {
      "cell_type": "markdown",
      "metadata": {
        "id": "c4NOmucUvvkt"
      },
      "source": [
        "##Función print()\r\n",
        " Busca envíar información a la salida\r\n",
        " ### Formas de uso\r\n",
        " 1. Con comas\r\n",
        " 2. Con signos\r\n",
        " 3. .format()\r\n",
        " 4. El operador f\"  \"\r\n",
        "\r\n",
        " - Con comas: Concatena los elementos enviados y les agrega un espacio.\r\n",
        " - Con signos: Concatena los valores sin espacio y sin convertirlos.\r\n",
        " - Con format(): Permite darle formato a la salida de la impresión de variable. Emplea format de el tipo de dato String.\r\n",
        "''' \" cadena {} a {} forma{}tear \".format(v1,v2,vn).''' Emplea comodines para sustituir los valores a {}\r\n",
        " - Con el operador f\" \": Es una variante de la función anterior pero escondiendo la función .format\r\n",
        "\r\n",
        "\r\n"
      ]
    },
    {
      "cell_type": "code",
      "metadata": {
        "colab": {
          "base_uri": "https://localhost:8080/"
        },
        "id": "-_B9CmsjxwKz",
        "outputId": "9763094f-0549-4e8e-ba4c-367e85e86bee"
      },
      "source": [
        "print(\"Hola\", nombre, edad)\r\n",
        "print(\"Hola\"+nombre+\" \"+ str(edad))\r\n",
        "# Nombre: José, con una edad de : 18 años.\r\n",
        "print(\"Nombre\", nombre, \"con una edad de:\", edad, \"años\")\r\n",
        "print(\"Nombre \"+ nombre + \" con una edad de: \" +str(edad)+ \" años \")\r\n",
        "print(\"Nombre {} con una edad de: {} años\".format(nombre,edad))\r\n",
        "print(f\"Nombre {nombre} con una edad de: {edad} años\")"
      ],
      "execution_count": 12,
      "outputs": [
        {
          "output_type": "stream",
          "text": [
            "Hola José 18\n",
            "HolaJosé 18\n",
            "Nombre José con una edad de: 18 años\n",
            "Nombre José con una edad de: 18 años \n",
            "Nombre José con una edad de: 18 años\n",
            "Nombre José con una edad de: 18 años\n"
          ],
          "name": "stdout"
        }
      ]
    },
    {
      "cell_type": "markdown",
      "metadata": {
        "id": "hGjpAYBT2hF7"
      },
      "source": [
        "## Función print() y los carácteres de escape\r\n",
        "- \\n Salto de línea\r\n",
        "- \\t tabulador\r\n",
        "- \\\\ imprimir la diagonal \\\r\n",
        "- \\' y \\\"\r\n",
        "- ' y \"\r\n",
        "- \\uxxxx\r\n",
        "- \\uxxxxxxxx\r\n"
      ]
    },
    {
      "cell_type": "code",
      "metadata": {
        "colab": {
          "base_uri": "https://localhost:8080/"
        },
        "id": "Te5uopIp2cFs",
        "outputId": "7f0cae60-0305-419b-a211-c6139fb22b1a"
      },
      "source": [
        "print('\"')\r\n",
        "print(\"\\\"\")\r\n",
        "print(\"Nombre: José\\n\\tcon una edad \\\\de: 18 años\")\r\n",
        "\r\n",
        "#caracteres unicode\r\n",
        "print(\"Hola \\u2661\")\r\n",
        "#Tarea: Poner marco de corazoncitos y poner nuestro nombre con unicode i demás.\r\n",
        "#https://unicode-table.com/es/blocks/geometric-shapes/"
      ],
      "execution_count": 20,
      "outputs": [
        {
          "output_type": "stream",
          "text": [
            "\"\n",
            "\"\n",
            "Nombre: José\n",
            "\tcon una edad \\de: 18 años\n",
            "Hola ♡\n"
          ],
          "name": "stdout"
        }
      ]
    },
    {
      "cell_type": "markdown",
      "metadata": {
        "id": "F9XP_IEc8G3n"
      },
      "source": [
        "## print y el salto de línea en el argumento. \r\n"
      ]
    },
    {
      "cell_type": "code",
      "metadata": {
        "colab": {
          "base_uri": "https://localhost:8080/"
        },
        "id": "Ga4JEcXW8Yuq",
        "outputId": "b2bc70b2-9bfd-450f-bcc1-5ce58201a509"
      },
      "source": [
        "print(\"Hola \" , end=\"\\u13cd \")\r\n",
        "print(\"Mundo \" ,  end=\"\")\r\n",
        "print(\"Fin\" ,  end=\"\\n\")"
      ],
      "execution_count": 24,
      "outputs": [
        {
          "output_type": "stream",
          "text": [
            "Hola Ꮝ Mundo Fin\n"
          ],
          "name": "stdout"
        }
      ]
    },
    {
      "cell_type": "markdown",
      "metadata": {
        "id": "De1LV9--9gRl"
      },
      "source": [
        "## Comentarios en python\r\n",
        "Un comentario en programación, es un texto especial que es ignorado por el intérprete o compilador (según sea el caso) y es empleado para que el programador documente sus algoritmos. Existen de dos tipos\r\n",
        "- Línea simple. En python emplea #comentario\r\n",
        "- Múltiple línea. En python emplea \"\"\"comentario\"\"\"\r\n",
        "\r\n"
      ]
    }
  ]
}